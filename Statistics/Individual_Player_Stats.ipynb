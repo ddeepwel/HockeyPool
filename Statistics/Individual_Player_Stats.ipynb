{
 "cells": [
  {
   "cell_type": "markdown",
   "metadata": {},
   "source": [
    "# Individual player stats"
   ]
  },
  {
   "cell_type": "code",
   "execution_count": 1,
   "metadata": {},
   "outputs": [],
   "source": [
    "import os\n",
    "import numpy as np\n",
    "import pandas as pd\n",
    "import matplotlib.pyplot as plt\n",
    "import matplotlib as mpl\n",
    "\n",
    "# set font to look like Latex\n",
    "font = {'family' : 'serif',\n",
    "        'size'   : 12}\n",
    "mpl.rc('font', **font)"
   ]
  },
  {
   "cell_type": "code",
   "execution_count": 2,
   "metadata": {},
   "outputs": [],
   "source": [
    "def players_in_year(year):\n",
    "    # Return a list of the players for a given year\n",
    "    \n",
    "    # read and append names from every round onto a string\n",
    "    names = []    # the string\n",
    "    for rnd in range(1,5):\n",
    "        fname = str(year)+' Friendly Playoff Pool Round '+str(rnd)+'.csv'    # read file\n",
    "        if os.path.isfile(fname):\n",
    "            # if file exists, return a pandas table\n",
    "            fdata = pd.read_csv(fname, sep=',')\n",
    "            # make the names of people the index (the row name)\n",
    "            names.extend(fdata['Name:'])\n",
    "    \n",
    "    # remove duplicates and Results\n",
    "    names = list(dict.fromkeys(names))\n",
    "    names.remove('Results')\n",
    "    \n",
    "    return names"
   ]
  },
  {
   "cell_type": "code",
   "execution_count": 3,
   "metadata": {},
   "outputs": [],
   "source": [
    "def rounds_list(year):\n",
    "    # return the rounds for a given year\n",
    "    # this really only matters for 2020 which had the qualification round\n",
    "\n",
    "    if year == 2020:\n",
    "        rounds = ['Q']\n",
    "        rounds.extend(range(1,5))\n",
    "    else:\n",
    "        rounds = range(1,5)\n",
    "    \n",
    "    return rounds"
   ]
  },
  {
   "cell_type": "code",
   "execution_count": 4,
   "metadata": {},
   "outputs": [],
   "source": [
    "def round_headers(year, rnd):\n",
    "    # return the column headers for a given year and round\n",
    "\n",
    "    if year == 2020:\n",
    "        if rnd == 'Q':\n",
    "            col_head = ['Time','Name','T1','G1','T2','G2','T3','G3','T4','G4','T5','G5','T6','G6','T7','G7','T8','G8']\n",
    "        elif rnd == 1:\n",
    "            col_head = ['Time','Name','T1','G1','T2','G2','T3','G3','T4','G4','T5','G5','T6','G6','T7','G7','T8','G8','WCC','ECC','SCC']\n",
    "        elif rnd == 2:\n",
    "            col_head = ['Time','Name','T1','G1','T2','G2','T3','G3','T4','G4']\n",
    "        elif rnd == 3:\n",
    "            col_head = ['Time','Name','T1','G1','T2','G2']\n",
    "        elif rnd == 4:\n",
    "            col_head = ['Time','Name','T1','G1']\n",
    "\n",
    "    return col_head"
   ]
  },
  {
   "cell_type": "code",
   "execution_count": 5,
   "metadata": {},
   "outputs": [],
   "source": [
    "def team_headers(rnd):\n",
    "    # return the Team headers for a given round\n",
    "\n",
    "    if rnd == 'Q' or rnd == 1:\n",
    "        col_head = ['T1','T2','T3','T4','T5','T6','T7','T8']\n",
    "    elif rnd == 2:\n",
    "        col_head = ['T1','T2','T3','T4']\n",
    "    elif rnd == 3:\n",
    "        col_head = ['T1','T2']\n",
    "    elif rnd == 4:\n",
    "        col_head = ['T1']\n",
    "\n",
    "    return col_head"
   ]
  },
  {
   "cell_type": "code",
   "execution_count": 6,
   "metadata": {},
   "outputs": [],
   "source": [
    "def read_round(year, rnd):\n",
    "    # Return a pandas structure of the data for a given round for a year\n",
    "\n",
    "    # adjust for Stanley cup (the finals) picks\n",
    "    rnd_orig = rnd\n",
    "    if rnd == 'SC':\n",
    "        rnd_orig = 'SC'\n",
    "        rnd = 1\n",
    "\n",
    "    fname = str(year)+' Friendly Playoff Pool Round '+str(rnd)+'.csv'    # read file\n",
    "    if os.path.isfile(fname):    \n",
    "        # if file exists, return a pandas table\n",
    "        fdata = pd.read_csv(fname, sep=',')\n",
    "        \n",
    "        # make the names of people the index (the row name) and rename to 'Name'\n",
    "        fdata=fdata.rename(columns={'Name:': 'Name'})\n",
    "        fdata.index = fdata['Name']\n",
    "\n",
    "        # over write the column headers\n",
    "        fdata.columns = round_headers(year, rnd)\n",
    "\n",
    "        # Remove 'Games' in games columns and cast numbers to integer\n",
    "        if rnd == 'Q':\n",
    "            N_series = 2**(4-1)      # number of series in round\n",
    "        else:\n",
    "            N_series = 2**(4-rnd)      # number of series in round\n",
    "        for ind in ['G'+str(x) for x in range(1,N_series+1)]:\n",
    "            if fdata[ind].values[0] == '- Games':\n",
    "                # set to an integer because arithmetic won't work later (a python thing)\n",
    "                fdata[ind].values[0] = '0 Games'\n",
    "            # remove and cast\n",
    "            fdata[ind] = fdata[ind].map(lambda x: x.rstrip(' Games')).astype(int)\n",
    "    else:\n",
    "        # if file does NOT exists, return a string\n",
    "        fdata = '-'\n",
    "    \n",
    "    if rnd_orig == 'SC':\n",
    "        fdata = fdata.loc[:,['Name','WCC','ECC','SCC']]\n",
    "    return fdata"
   ]
  },
  {
   "cell_type": "code",
   "execution_count": 7,
   "metadata": {},
   "outputs": [],
   "source": [
    "def player_year_total_team(year, player):\n",
    "    # Return a pandas structure of the data for a given round for a year\n",
    "\n",
    "    # setup arrays\n",
    "    Ncorrect_teams = []\n",
    "    Nattempts = []\n",
    "    \n",
    "    # loop over rounds\n",
    "    for rnd in rounds_list(year):\n",
    "        df = read_round(year,rnd)         # data structure for year and round\n",
    "        if player not in df['Name']:\n",
    "            continue    # skip if player is not in round\n",
    "        results      = df.loc['Results']  # Correct results for the round\n",
    "        player_picks = df.loc[player]     # players picks structure\n",
    "        player_teams  =  player_picks.loc[team_headers(rnd)]\n",
    "        results_teams =       results.loc[team_headers(rnd)]\n",
    "\n",
    "        # append amount of correct picks and the attempts to array\n",
    "        Ncorrect_teams.append(np.sum(player_teams == results_teams))\n",
    "        Nattempts.append(np.sum(player_teams == player_teams))\n",
    "\n",
    "    # sum over all rounds\n",
    "    Ncorrect_teams_total = sum(Ncorrect_teams)\n",
    "    Nattempts_total = sum(Nattempts)\n",
    "    \n",
    "    return Ncorrect_teams_total, Nattempts_total"
   ]
  },
  {
   "cell_type": "code",
   "execution_count": 8,
   "metadata": {},
   "outputs": [],
   "source": [
    "def team_percent_table(year):\n",
    "    # find the percent of correct team picks in a year for all players\n",
    "    \n",
    "    perc = []\n",
    "    names = players_in_year(year)\n",
    "    for name in names:\n",
    "        Ncor,Ntry = player_year_total_team(year,name)\n",
    "        perc.append(Ncor/Ntry)\n",
    "    \n",
    "    # create pandas series\n",
    "    df2 = pd.Series(perc,index=names).sort_values(ascending=False)\n",
    "    \n",
    "    return df2"
   ]
  },
  {
   "cell_type": "code",
   "execution_count": 9,
   "metadata": {},
   "outputs": [],
   "source": [
    "year = 2020\n",
    "os.chdir('../'+str(year)+'/')"
   ]
  },
  {
   "cell_type": "code",
   "execution_count": 10,
   "metadata": {},
   "outputs": [
    {
     "data": {
      "text/plain": [
       "'/Users/daviddeepwell/Documents/Hockey/Hockey Pool/Playoffs/2020'"
      ]
     },
     "execution_count": 10,
     "metadata": {},
     "output_type": "execute_result"
    }
   ],
   "source": [
    "pwd"
   ]
  },
  {
   "cell_type": "code",
   "execution_count": 11,
   "metadata": {},
   "outputs": [],
   "source": [
    "pp = players_in_year(year)"
   ]
  },
  {
   "cell_type": "code",
   "execution_count": 12,
   "metadata": {},
   "outputs": [
    {
     "data": {
      "text/plain": [
       "Anthony C    0.652174\n",
       "Michael D    0.625000\n",
       "Alisha K     0.608696\n",
       "Jon M        0.565217\n",
       "Brian M      0.545455\n",
       "Jack L       0.521739\n",
       "Nathan S     0.521739\n",
       "Tom K        0.500000\n",
       "Ron K        0.500000\n",
       "Mark D       0.478261\n",
       "Andre D      0.478261\n",
       "Andrew N     0.434783\n",
       "David D      0.434783\n",
       "Kollin H     0.428571\n",
       "Josh H       0.409091\n",
       "Alita D      0.350000\n",
       "Kyle L       0.347826\n",
       "Brandon P    0.250000\n",
       "dtype: float64"
      ]
     },
     "execution_count": 12,
     "metadata": {},
     "output_type": "execute_result"
    }
   ],
   "source": [
    "t2020 = team_percent_table(year)\n",
    "t2020"
   ]
  },
  {
   "cell_type": "code",
   "execution_count": null,
   "metadata": {},
   "outputs": [],
   "source": []
  }
 ],
 "metadata": {
  "kernelspec": {
   "display_name": "Python 3",
   "language": "python",
   "name": "python3"
  },
  "language_info": {
   "codemirror_mode": {
    "name": "ipython",
    "version": 3
   },
   "file_extension": ".py",
   "mimetype": "text/x-python",
   "name": "python",
   "nbconvert_exporter": "python",
   "pygments_lexer": "ipython3",
   "version": "3.9.0"
  }
 },
 "nbformat": 4,
 "nbformat_minor": 2
}
