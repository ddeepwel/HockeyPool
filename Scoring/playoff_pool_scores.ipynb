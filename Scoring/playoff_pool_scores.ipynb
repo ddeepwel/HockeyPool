{
 "cells": [
  {
   "cell_type": "markdown",
   "metadata": {
    "deletable": true,
    "editable": true
   },
   "source": [
    "# Friendly Playoff Pool Stats"
   ]
  },
  {
   "cell_type": "markdown",
   "metadata": {
    "deletable": true,
    "editable": true
   },
   "source": [
    "## Set-up"
   ]
  },
  {
   "cell_type": "code",
   "execution_count": 1,
   "metadata": {
    "collapsed": false,
    "deletable": true,
    "editable": true
   },
   "outputs": [],
   "source": [
    "import os\n",
    "import numpy as np\n",
    "import pandas as pd\n",
    "import matplotlib.pyplot as plt\n",
    "import matplotlib as mpl"
   ]
  },
  {
   "cell_type": "code",
   "execution_count": 2,
   "metadata": {
    "collapsed": false,
    "deletable": true,
    "editable": true
   },
   "outputs": [],
   "source": [
    "#font = {'family' : 'helvetica',  # need to download helvetica\n",
    "#        'size'   : 12}\n",
    "\n",
    "font = {'family' : 'serif',\n",
    "        'size'   : 12}\n",
    "mpl.rc('font', **font)"
   ]
  },
  {
   "cell_type": "code",
   "execution_count": 3,
   "metadata": {
    "collapsed": false,
    "deletable": true,
    "editable": true
   },
   "outputs": [
    {
     "name": "stdout",
     "output_type": "stream",
     "text": [
      "/Users/daviddeepwell/Documents/Hockey/Hockey Pool/Playoffs/2017\n"
     ]
    }
   ],
   "source": [
    "cd 2017"
   ]
  },
  {
   "cell_type": "code",
   "execution_count": 4,
   "metadata": {
    "collapsed": true,
    "deletable": true,
    "editable": true
   },
   "outputs": [],
   "source": [
    "def make_plot(data, save=False, text=True, legend=True):\n",
    "    # make labels for each column of data (row of bar graph)\n",
    "    labels = data.columns\n",
    "    N_labs = len(labels)\n",
    "    if not hasattr(data, 'name'):\n",
    "        data.name = 'Winners'\n",
    "    name_str = data.name\n",
    "    name = name_str.split(\" - \")[-1]\n",
    "    if labels.dtype == np.array([object()]).dtype:\n",
    "        add_asterix = False\n",
    "    else:\n",
    "        add_asterix = True\n",
    "    winner = False\n",
    "\n",
    "    # colours to use in each segment\n",
    "    colors = ['#95c4e8','#a3e6be','#fbee9d','#fbbf9d','#e29dfb']\n",
    "\n",
    "    # set-up figure\n",
    "    fig = plt.figure(figsize=(12,0.5*N_labs))\n",
    "    ax = fig.add_subplot(111)\n",
    "    #plt.rc('text', usetex=false)\n",
    "    #plt.rc('font', family='serif')\n",
    "    patches = []\n",
    "    a_bar = [0]*5\n",
    "\n",
    "    rounds = ['Round 1', 'Round 2', 'Round 3', 'Round 4', 'Stanley Cup']\n",
    "    for label in labels:\n",
    "        r = labels.get_loc(label) - labels.get_loc(labels[0])\n",
    "        widths = data[label].values\n",
    "        left = 0\n",
    "        for ind in range(len(widths)):\n",
    "            w = widths[ind]\n",
    "            if not np.isnan(w):\n",
    "                a_bar[ind] = ax.barh(r, w, align='center', left=left, edgecolor='black',\n",
    "                    color=colors[ind],label=rounds[ind])\n",
    "                patches.append(a_bar[ind])\n",
    "                # add text\n",
    "                patch = patches[-1][0] \n",
    "                bl = patch.get_xy()\n",
    "                x = 0.5*patch.get_width() + bl[0]\n",
    "                y = 0.5*patch.get_height() + bl[1]\n",
    "                if text:\n",
    "                    ax.text(x, y, \"%d\" % (w), ha='center',va='center')\n",
    "                else:\n",
    "                    ax.text(x, y, \"%.2f\" % (w), ha='center',va='center')\n",
    "                left += w\n",
    "            if ind == len(widths)-1:\n",
    "                x = bl[0] + patch.get_width() + 6\n",
    "                total = np.sum(np.ma.masked_invalid(widths))\n",
    "                if text:\n",
    "                    if add_asterix:\n",
    "                        if find_winner(label) == name:\n",
    "                            ax.text(x, y, \"%d*\" % (total), ha='center',va='center')\n",
    "                            winner = True\n",
    "                        else:\n",
    "                            ax.text(x, y, \"%d\" % (total), ha='center',va='center')\n",
    "                    else:\n",
    "                        ax.text(x, y, \"%d\" % (total), ha='center',va='center')\n",
    "\n",
    "    # set axis and add labels\n",
    "    y_pos = np.arange(N_labs)\n",
    "    ax.set_yticks(y_pos)\n",
    "    ax.set_yticklabels(labels)\n",
    "    #ax.set_xlabel('Points')\n",
    "    plt.title(data.name)\n",
    "\n",
    "    # remove plot lines\n",
    "    ax.spines['right'].set_visible(False)\n",
    "    ax.spines['bottom'].set_visible(False)\n",
    "    ax.spines['top'].set_visible(False)\n",
    "    ax.yaxis.set_ticks_position('none')\n",
    "    ax.xaxis.set_ticks_position('none')\n",
    "    ax.get_xaxis().set_ticks([])\n",
    "\n",
    "    if legend:\n",
    "        # Shrink current axis by 25%\n",
    "        box = ax.get_position()\n",
    "        ax.set_position([box.x0, box.y0, box.width * 0.75, box.height])\n",
    "\n",
    "        # remove unused elements of a_bar\n",
    "        a_bar2 = list(filter(lambda a: a != 0, a_bar))\n",
    "    \n",
    "        # Put a legend to the right of the current axis\n",
    "        if winner:\n",
    "            plt.legend(handles=a_bar2, loc='center left',bbox_to_anchor=(1.05,0.5),title='* Winner')\n",
    "        else:\n",
    "            plt.legend(handles=a_bar2, loc='center left',bbox_to_anchor=(1.05,0.5))\n",
    "    \n",
    "    # save figure\n",
    "    if save:\n",
    "        #os.chdir('Figures')\n",
    "        filename = data.name\n",
    "        form = 'pdf'\n",
    "        plt.savefig(filename+'.'+form, bbox_inches='tight', format=form)\n",
    "        os.chdir('..')\n",
    "    \n",
    "    # display plot inline\n",
    "    plt.show();"
   ]
  },
  {
   "cell_type": "markdown",
   "metadata": {
    "deletable": true,
    "editable": true
   },
   "source": [
    "# Work"
   ]
  },
  {
   "cell_type": "code",
   "execution_count": 5,
   "metadata": {
    "collapsed": true,
    "deletable": true,
    "editable": true
   },
   "outputs": [],
   "source": [
    "def read_round(year, rnd):\n",
    "    fname = str(year)+' Friendly Playoff Pool Round '+str(rnd)+'.csv'\n",
    "    if os.path.isfile(fname):\n",
    "        fdata = pd.read_csv(fname, sep=',')\n",
    "        header = fdata.columns.values\n",
    "        if rnd == 1:\n",
    "            header[2:] = ['T1','G1','T2','G2','T3','G3','T4','G4','T5','G5','T6','G6','T7','G7','T8','G8','SC','R']\n",
    "        elif rnd == 2:\n",
    "            header[2:] = ['T1','G1','T2','G2','T3','G3','T4','G4']\n",
    "        elif rnd == 3:\n",
    "            header[2:] = ['T1','G1','T2','G2']\n",
    "        elif rnd == 4:\n",
    "            header[2:] = ['T1','G1']\n",
    "        fdata.columns = header\n",
    "        # Remove the string 'Games' in games columns\n",
    "        max_ind = 2**(4-rnd)+1\n",
    "        for ind in ['G'+str(x) for x in range(1,max_ind)]:\n",
    "            if not fdata[ind].values[0] == '- Games':\n",
    "                fdata[ind] = fdata[ind].map(lambda x: x.rstrip(' Games')).astype(int)\n",
    "    else:\n",
    "        fdata = '-'\n",
    "    return fdata"
   ]
  },
  {
   "cell_type": "code",
   "execution_count": 6,
   "metadata": {
    "collapsed": false,
    "deletable": true,
    "editable": true
   },
   "outputs": [],
   "source": [
    "def get_round_points(year, rnd):\n",
    "    df = read_round(year, rnd)\n",
    "    if not isinstance(df, str):\n",
    "        N_people = df.shape[0]-1\n",
    "        if rnd < 4:\n",
    "            T = 10\n",
    "            G = 5\n",
    "        elif rnd == 4:\n",
    "            T = 20\n",
    "            G = 10\n",
    "        teams = [0]*N_people\n",
    "        games = [0]*N_people\n",
    "        for ind in range(1,N_people+1):\n",
    "            if rnd == 1:\n",
    "                teams[ind-1] = (df.iloc[0].values[2:-2:2] == df.iloc[ind].values[2:-2:2]).sum()\n",
    "                games[ind-1] = (df.iloc[0].values[3:-2:2] == df.iloc[ind].values[3:-2:2]).sum()\n",
    "            else:\n",
    "                teams[ind-1] = (df.iloc[0].values[2::2] == df.iloc[ind].values[2::2]).sum()\n",
    "                games[ind-1] = (df.iloc[0].values[3::2] == df.iloc[ind].values[3::2]).sum()\n",
    "        pts = T*np.array(teams) + G*np.array(games)\n",
    "        ser = pd.Series(pts, index=df['Name:'].values[1:])\n",
    "    else:\n",
    "        ser = '-'\n",
    "    return ser"
   ]
  },
  {
   "cell_type": "code",
   "execution_count": 7,
   "metadata": {
    "collapsed": false,
    "deletable": true,
    "editable": true
   },
   "outputs": [],
   "source": [
    "r1 = get_round_points(2017, 1)\n",
    "r2 = get_round_points(2017, 2)\n",
    "r3 = get_round_points(2017, 3)\n",
    "r4 = get_round_points(2017, 4)"
   ]
  },
  {
   "cell_type": "code",
   "execution_count": 8,
   "metadata": {
    "collapsed": false,
    "deletable": true,
    "editable": true
   },
   "outputs": [],
   "source": [
    "r1names = r1.index.values\n",
    "if not isinstance(r2, str):\n",
    "    r2names = r2.index.values\n",
    "else:\n",
    "    r2names = '-'\n",
    "if not isinstance(r3, str):\n",
    "    r3names = r3.index.values\n",
    "else:\n",
    "    r3names = '-'\n",
    "if not isinstance(r4, str):\n",
    "    r4names = r4.index.values\n",
    "else:\n",
    "    r4names = '-'"
   ]
  },
  {
   "cell_type": "code",
   "execution_count": 9,
   "metadata": {
    "collapsed": false,
    "deletable": true,
    "editable": true
   },
   "outputs": [],
   "source": [
    "# compare names in different lists\n",
    "all_names = r1names\n",
    "#l3 = [x for x in r2names if x not in all_names]"
   ]
  },
  {
   "cell_type": "code",
   "execution_count": 10,
   "metadata": {
    "collapsed": false,
    "deletable": true,
    "editable": true
   },
   "outputs": [],
   "source": [
    "pts1 = [0]*all_names.size\n",
    "pts2 = [0]*all_names.size\n",
    "pts3 = [0]*all_names.size\n",
    "pts4 = [0]*all_names.size\n",
    "SC = [0]*all_names.size\n",
    "ind = 0\n",
    "for name in all_names:\n",
    "    if name in r1names:\n",
    "        pts1[ind] = r1[name]\n",
    "    else:\n",
    "        pts1[ind] = np.NaN\n",
    "    if name in r2names:\n",
    "        pts2[ind] = r2[name]\n",
    "    else:\n",
    "        pts2[ind] = np.NaN\n",
    "    if name in r3names:\n",
    "        pts3[ind] = r3[name]\n",
    "    else:\n",
    "        pts3[ind] = np.NaN\n",
    "    if name in r4names:\n",
    "        pts4[ind] = r4[name]\n",
    "    else:\n",
    "        pts4[ind] = np.NaN\n",
    "    if name in r1names:\n",
    "        #SC[ind] = np.NaN\n",
    "        #else:\n",
    "        #if name == 'Jeremy' or name == 'Kollin':\n",
    "        #    SC[ind] = 10\n",
    "        if name == 'Michael':\n",
    "            SC[ind] = 25\n",
    "        else:\n",
    "            SC[ind] = np.NaN\n",
    "    ind = ind+1"
   ]
  },
  {
   "cell_type": "code",
   "execution_count": 11,
   "metadata": {
    "collapsed": false,
    "deletable": true,
    "editable": true
   },
   "outputs": [],
   "source": [
    "all_score = np.vstack((pts1,pts2,pts3,pts4,SC))\n",
    "df = pd.DataFrame(all_score, index=['R1', 'R2', 'R3', 'R4', 'SC'])\n",
    "df.columns = all_names"
   ]
  },
  {
   "cell_type": "code",
   "execution_count": 12,
   "metadata": {
    "collapsed": true,
    "deletable": true,
    "editable": true
   },
   "outputs": [],
   "source": [
    "df_sorted = df.reindex_axis(df.sum(axis=0).sort_values(ascending=True).index, axis=1)\n",
    "df_sorted.name = 'Points - '+str(2017)"
   ]
  },
  {
   "cell_type": "code",
   "execution_count": 13,
   "metadata": {
    "collapsed": false,
    "deletable": true,
    "editable": true
   },
   "outputs": [
    {
     "data": {
      "text/html": [
       "<div>\n",
       "<table border=\"1\" class=\"dataframe\">\n",
       "  <thead>\n",
       "    <tr style=\"text-align: right;\">\n",
       "      <th></th>\n",
       "      <th>Matt</th>\n",
       "      <th>Alita</th>\n",
       "      <th>Kyle</th>\n",
       "      <th>Ron</th>\n",
       "      <th>Jackson</th>\n",
       "      <th>Jeremy</th>\n",
       "      <th>Kollin</th>\n",
       "      <th>Anthony</th>\n",
       "      <th>Andre</th>\n",
       "      <th>Josh</th>\n",
       "      <th>Michael</th>\n",
       "      <th>David</th>\n",
       "      <th>Romulus</th>\n",
       "      <th>Brian</th>\n",
       "    </tr>\n",
       "  </thead>\n",
       "  <tbody>\n",
       "    <tr>\n",
       "      <th>R1</th>\n",
       "      <td>45.0</td>\n",
       "      <td>35.0</td>\n",
       "      <td>55.0</td>\n",
       "      <td>55.0</td>\n",
       "      <td>60.0</td>\n",
       "      <td>55.0</td>\n",
       "      <td>70.0</td>\n",
       "      <td>55.0</td>\n",
       "      <td>65.0</td>\n",
       "      <td>70.0</td>\n",
       "      <td>50.0</td>\n",
       "      <td>60.0</td>\n",
       "      <td>80.0</td>\n",
       "      <td>75.0</td>\n",
       "    </tr>\n",
       "    <tr>\n",
       "      <th>R2</th>\n",
       "      <td>NaN</td>\n",
       "      <td>10.0</td>\n",
       "      <td>20.0</td>\n",
       "      <td>35.0</td>\n",
       "      <td>40.0</td>\n",
       "      <td>30.0</td>\n",
       "      <td>25.0</td>\n",
       "      <td>25.0</td>\n",
       "      <td>30.0</td>\n",
       "      <td>35.0</td>\n",
       "      <td>30.0</td>\n",
       "      <td>60.0</td>\n",
       "      <td>20.0</td>\n",
       "      <td>45.0</td>\n",
       "    </tr>\n",
       "    <tr>\n",
       "      <th>R3</th>\n",
       "      <td>NaN</td>\n",
       "      <td>20.0</td>\n",
       "      <td>10.0</td>\n",
       "      <td>20.0</td>\n",
       "      <td>15.0</td>\n",
       "      <td>30.0</td>\n",
       "      <td>10.0</td>\n",
       "      <td>30.0</td>\n",
       "      <td>25.0</td>\n",
       "      <td>25.0</td>\n",
       "      <td>5.0</td>\n",
       "      <td>25.0</td>\n",
       "      <td>25.0</td>\n",
       "      <td>30.0</td>\n",
       "    </tr>\n",
       "    <tr>\n",
       "      <th>R4</th>\n",
       "      <td>NaN</td>\n",
       "      <td>20.0</td>\n",
       "      <td>10.0</td>\n",
       "      <td>0.0</td>\n",
       "      <td>0.0</td>\n",
       "      <td>NaN</td>\n",
       "      <td>10.0</td>\n",
       "      <td>20.0</td>\n",
       "      <td>20.0</td>\n",
       "      <td>10.0</td>\n",
       "      <td>30.0</td>\n",
       "      <td>0.0</td>\n",
       "      <td>20.0</td>\n",
       "      <td>10.0</td>\n",
       "    </tr>\n",
       "    <tr>\n",
       "      <th>SC</th>\n",
       "      <td>NaN</td>\n",
       "      <td>NaN</td>\n",
       "      <td>NaN</td>\n",
       "      <td>NaN</td>\n",
       "      <td>NaN</td>\n",
       "      <td>NaN</td>\n",
       "      <td>NaN</td>\n",
       "      <td>NaN</td>\n",
       "      <td>NaN</td>\n",
       "      <td>NaN</td>\n",
       "      <td>25.0</td>\n",
       "      <td>NaN</td>\n",
       "      <td>NaN</td>\n",
       "      <td>NaN</td>\n",
       "    </tr>\n",
       "  </tbody>\n",
       "</table>\n",
       "</div>"
      ],
      "text/plain": [
       "    Matt  Alita  Kyle   Ron  Jackson  Jeremy  Kollin  Anthony  Andre  Josh  \\\n",
       "R1  45.0   35.0  55.0  55.0     60.0    55.0    70.0     55.0   65.0  70.0   \n",
       "R2   NaN   10.0  20.0  35.0     40.0    30.0    25.0     25.0   30.0  35.0   \n",
       "R3   NaN   20.0  10.0  20.0     15.0    30.0    10.0     30.0   25.0  25.0   \n",
       "R4   NaN   20.0  10.0   0.0      0.0     NaN    10.0     20.0   20.0  10.0   \n",
       "SC   NaN    NaN   NaN   NaN      NaN     NaN     NaN      NaN    NaN   NaN   \n",
       "\n",
       "    Michael  David  Romulus  Brian  \n",
       "R1     50.0   60.0     80.0   75.0  \n",
       "R2     30.0   60.0     20.0   45.0  \n",
       "R3      5.0   25.0     25.0   30.0  \n",
       "R4     30.0    0.0     20.0   10.0  \n",
       "SC     25.0    NaN      NaN    NaN  "
      ]
     },
     "execution_count": 13,
     "metadata": {},
     "output_type": "execute_result"
    }
   ],
   "source": [
    "df_sorted"
   ]
  },
  {
   "cell_type": "code",
   "execution_count": 14,
   "metadata": {
    "collapsed": false,
    "deletable": true,
    "editable": true,
    "scrolled": true
   },
   "outputs": [
    {
     "data": {
      "image/png": "[encoded data removed]",
      "text/plain": [
       "<matplotlib.figure.Figure at 0x10f493ef0>"
      ]
     },
     "metadata": {},
     "output_type": "display_data"
    }
   ],
   "source": [
    "make_plot(df_sorted, save=True)"
   ]
  },
  {
   "cell_type": "code",
   "execution_count": null,
   "metadata": {
    "collapsed": true,
    "deletable": true,
    "editable": true
   },
   "outputs": [],
   "source": []
  },
  {
   "cell_type": "code",
   "execution_count": null,
   "metadata": {
    "collapsed": true,
    "deletable": true,
    "editable": true
   },
   "outputs": [],
   "source": []
  },
  {
   "cell_type": "code",
   "execution_count": null,
   "metadata": {
    "collapsed": true,
    "deletable": true,
    "editable": true
   },
   "outputs": [],
   "source": []
  },
  {
   "cell_type": "code",
   "execution_count": null,
   "metadata": {
    "collapsed": true,
    "deletable": true,
    "editable": true
   },
   "outputs": [],
   "source": []
  },
  {
   "cell_type": "code",
   "execution_count": null,
   "metadata": {
    "collapsed": true,
    "deletable": true,
    "editable": true
   },
   "outputs": [],
   "source": []
  },
  {
   "cell_type": "code",
   "execution_count": null,
   "metadata": {
    "collapsed": true,
    "deletable": true,
    "editable": true
   },
   "outputs": [],
   "source": []
  },
  {
   "cell_type": "markdown",
   "metadata": {
    "deletable": true,
    "editable": true
   },
   "source": [
    "## Define Functions"
   ]
  },
  {
   "cell_type": "markdown",
   "metadata": {
    "deletable": true,
    "editable": true
   },
   "source": [
    "### Data manipulation functions"
   ]
  },
  {
   "cell_type": "code",
   "execution_count": null,
   "metadata": {
    "collapsed": false,
    "deletable": true,
    "editable": true
   },
   "outputs": [],
   "source": [
    "# Point values\n",
    "def point_values( year ):\n",
    "    if year <= 2007:\n",
    "        T = 10\n",
    "        G = 7\n",
    "        # Stanley Cup points\n",
    "        W = 25\n",
    "        R = 15\n",
    "        WR = W+R\n",
    "        WF = RF = FF = N = '-'\n",
    "        return [T, G, T, G, T, G, T, G, [W, R, WR, WF, RF, FF, N]]\n",
    "    if  2008 <= year <= 2014:\n",
    "        T = 7\n",
    "        G = 10\n",
    "        # Stanley Cup points\n",
    "        W = 25\n",
    "        R = 15\n",
    "        WR = W+R\n",
    "        WF = RF = FF = N= '-'\n",
    "        return [T, G, T, G, T, G, T, G, [W, R, WR, WF, RF, FF, N]]\n",
    "    if  year >= 2015:\n",
    "        T = 10\n",
    "        G = 5\n",
    "        # Stanley Cup points\n",
    "        W = 15\n",
    "        R = 10\n",
    "        WR = W+R\n",
    "        WF = RF = FF = N = '-'\n",
    "        return [T, G, T, G, T, G, 2*T, 2*G, [W, R, WR, WF, RF, FF, N]]"
   ]
  },
  {
   "cell_type": "code",
   "execution_count": null,
   "metadata": {
    "collapsed": false,
    "deletable": true,
    "editable": true
   },
   "outputs": [],
   "source": [
    "# load data for a given name\n",
    "def load_data( name ):\n",
    "    Nnames = len(names)\n",
    "    name_val = dict( zip(names, range(Nnames)))\n",
    "    nn = name_val[name]\n",
    "    files = os.listdir('.')\n",
    "    file = files[nn]\n",
    "    fdata = pd.read_csv(file, sep=' ')\n",
    "    fdata.index = ['T1','G1','O1','T2','G2','O2','T3','G3','O3','T4','G4','O4','SC']\n",
    "    data = pd.DataFrame(fdata)\n",
    "    data.name = name\n",
    "    return data"
   ]
  },
  {
   "cell_type": "code",
   "execution_count": null,
   "metadata": {
    "collapsed": true,
    "deletable": true,
    "editable": true
   },
   "outputs": [],
   "source": [
    "def convert_to_pts( name ):\n",
    "    # convert header to int\n",
    "    data = data_raw[name]\n",
    "    header_int = data.columns.astype(int)\n",
    "    data.columns = header_int\n",
    "    # convert Stanley cup strings to values\n",
    "    years = header_int\n",
    "    for year in years:\n",
    "        pts = point_values( year )\n",
    "        SC = pts[-1]\n",
    "        if year == years[0]:\n",
    "            d = {year : data[year].replace(to_replace=\n",
    "                {'W': SC[0], 'R': SC[1], 'WR': SC[2], 'WF': SC[3], 'RF': SC[4], 'FF': SC[5], 'N': SC[6]})}\n",
    "            df = pd.DataFrame(d)\n",
    "        else:\n",
    "            df = df.assign(year=data[year].replace(to_replace=\n",
    "                {'W': SC[0], 'R': SC[1], 'WR': SC[2], 'WF': SC[3], 'RF': SC[4], 'FF': SC[5], 'N': SC[6]}))\n",
    "            df = df.rename(index=str, columns = {'year': year})\n",
    "    # convert strings of numbers to int\n",
    "    data = df.apply(pd.to_numeric, errors='coerce')\n",
    "    return data"
   ]
  },
  {
   "cell_type": "code",
   "execution_count": null,
   "metadata": {
    "collapsed": false,
    "deletable": true,
    "editable": true
   },
   "outputs": [],
   "source": [
    "# convert nans to zero where appropriate\n",
    "def convert_to_zero( name ):\n",
    "    data = data_val[name]\n",
    "    for year in data.columns:\n",
    "        for ind in [2, 5, 8, 11]:\n",
    "            if not (np.isnan(data[year][ind-2]) and np.isnan(data[year][ind-1]) and np.isnan(data[year][ind])):\n",
    "                if np.isnan(data[year][ind-2]):\n",
    "                    data[year][ind-2] = 0\n",
    "                if np.isnan(data[year][ind-1]):\n",
    "                    data[year][ind-1] = 0\n",
    "                if np.isnan(data[year][ind]):\n",
    "                    data[year][ind] = 0\n",
    "    return data"
   ]
  },
  {
   "cell_type": "code",
   "execution_count": null,
   "metadata": {
    "collapsed": false,
    "deletable": true,
    "editable": true
   },
   "outputs": [],
   "source": [
    "# make table of points in each round\n",
    "def get_round_pts( name ):\n",
    "    data = data_val[name]\n",
    "    years = data.columns\n",
    "    for year in years:\n",
    "        pts = point_values( year )\n",
    "        scr = [np.nan]*5\n",
    "        for ind in [0, 3, 6, 9, 12]:\n",
    "            if ind < 12:\n",
    "                scr[ind//3] = np.dot(data[year].values[ind:ind+3], [pts[ind//3*2], pts[ind//3*2+1], 1])\n",
    "            elif ind == 12:\n",
    "                scr[ind//3] = data[year].values[ind]\n",
    "        if year == years[0]:\n",
    "            d = {year : pd.Series(scr, index=['R1', 'R2', 'R3', 'R4', 'SC'])}\n",
    "            df = pd.DataFrame(d)\n",
    "        else:\n",
    "            df = df.assign(year=scr)\n",
    "            df = df.rename(index=str, columns = {'year': year})\n",
    "        df.name = 'Points - '+name\n",
    "    return df"
   ]
  },
  {
   "cell_type": "code",
   "execution_count": null,
   "metadata": {
    "collapsed": false,
    "deletable": true,
    "editable": true
   },
   "outputs": [],
   "source": [
    "# Make table of points for a given year\n",
    "def mk_year_table( year ):\n",
    "    for name in names:\n",
    "        if year in data_pts[name].columns:\n",
    "            d = data_pts[name][year]\n",
    "            d.name = name\n",
    "            if not 'df' in locals():\n",
    "                df = pd.DataFrame(d)\n",
    "            else:\n",
    "                df = df.assign(name=d)\n",
    "                df = df.rename(index=str, columns = {'name': name})\n",
    "    df_sorted = df.reindex_axis(df.sum(axis=0).sort_values(ascending=True).index, axis=1)\n",
    "    df_sorted.name = 'Points - '+str(year)\n",
    "    return df_sorted"
   ]
  },
  {
   "cell_type": "code",
   "execution_count": null,
   "metadata": {
    "collapsed": true,
    "deletable": true,
    "editable": true
   },
   "outputs": [],
   "source": [
    "def find_winner( year ):\n",
    "    df = mk_year_table(year)\n",
    "    return df.columns[-1]"
   ]
  },
  {
   "cell_type": "code",
   "execution_count": null,
   "metadata": {
    "collapsed": false,
    "deletable": true,
    "editable": true
   },
   "outputs": [],
   "source": [
    "def mk_SC_table():\n",
    "    for name in names:\n",
    "        data = data_raw[name]\n",
    "        SC = data.loc['SC']\n",
    "        WR = SC.str.count(r\"WR$\").sum();\n",
    "        W  = SC.str.count(r\"W$\").sum();\n",
    "        R  = SC.str.count(r\"R$\").sum();\n",
    "        WF = SC.str.count(r\"WF$\").sum();\n",
    "        RF = SC.str.count(r\"RF$\").sum();\n",
    "        FF = SC.str.count(r\"FF$\").sum();\n",
    "        N  = SC.str.count(r\"N$\").sum();\n",
    "        atts = len(data.columns) - N\n",
    "        scr = [WR, W, R, WF, RF, FF, atts]\n",
    "        if not 'df' in locals():\n",
    "            d = {name : pd.Series(scr, index=['WR', 'W', 'R', 'WF', 'RF', 'FF', 'attempts'])}\n",
    "            df = pd.DataFrame(d)\n",
    "        else:\n",
    "            df = df.assign(name=scr)\n",
    "            df = df.rename(index=str, columns = {'name': name})\n",
    "    return df"
   ]
  },
  {
   "cell_type": "code",
   "execution_count": null,
   "metadata": {
    "collapsed": false,
    "deletable": true,
    "editable": true
   },
   "outputs": [],
   "source": [
    "def count_SC( cat, sort='Percentage' ):\n",
    "    SC = mk_SC_table()\n",
    "    col = SC.sort_values(cat, axis=1, ascending=False).loc[cat]\n",
    "    df = pd.DataFrame(col)\n",
    "    atts = SC.loc['attempts']\n",
    "    df = df.assign(Attempts=atts)\n",
    "    perc = df[cat]/df['Attempts']\n",
    "    df = df.assign(Percentage=perc)\n",
    "    if sort == 'Percentage':\n",
    "        df.sort_values(['Percentage', 'Attempts'], ascending=[False, True], inplace=True)\n",
    "    elif sort == 'Total':\n",
    "        df.sort_values([cat, 'Attempts'], ascending=[False, True], inplace=True)\n",
    "    return df"
   ]
  },
  {
   "cell_type": "code",
   "execution_count": null,
   "metadata": {
    "collapsed": false,
    "deletable": true,
    "editable": true
   },
   "outputs": [],
   "source": [
    "def winner_table( year ):\n",
    "    for year in range(2006, year+1):\n",
    "        yr = mk_year_table(year)\n",
    "        winner = yr.columns[-1]\n",
    "        ser = yr[winner]\n",
    "        ser.name = ser.name+' - '+str(year)\n",
    "        #ser = ser.append(pd.Series([2006], index=['year']))\n",
    "        if not 'df' in locals():\n",
    "            df = pd.DataFrame(ser)\n",
    "        else:\n",
    "            df = df.assign(name=ser)\n",
    "            df = df.rename(index=str, columns = {'name': ser.name})\n",
    "    return df"
   ]
  },
  {
   "cell_type": "markdown",
   "metadata": {
    "deletable": true,
    "editable": true
   },
   "source": [
    "### Plotting functions"
   ]
  },
  {
   "cell_type": "code",
   "execution_count": null,
   "metadata": {
    "collapsed": true,
    "deletable": true,
    "editable": true
   },
   "outputs": [],
   "source": [
    "def plot_year( year, save=False ):\n",
    "    df = mk_year_table( year )\n",
    "    make_plot(df, save=save)"
   ]
  },
  {
   "cell_type": "code",
   "execution_count": null,
   "metadata": {
    "collapsed": false,
    "deletable": true,
    "editable": true
   },
   "outputs": [],
   "source": [
    "def plot_SC( cat, amount='Percentage' ):\n",
    "    # amount = {'Percentage', 'Total'}\n",
    "    if amount == 'Percentage':\n",
    "        df = pd.DataFrame(count_SC(cat)['Percentage'])\n",
    "    elif amount == 'Total':\n",
    "        df = pd.DataFrame(count_SC(cat,sort='Total')[cat])\n",
    "    df2 = df.T\n",
    "    df2 = df2[df2.columns[::-1]]\n",
    "    df2 = df2.drop('Sheldon',axis=1) # drop all nans (should improve)\n",
    "    df2.name = 'SC '+cat+' - '+amount\n",
    "    #if amount == 'Percentage':\n",
    "    make_plot(df2, text=False, legend=False)\n",
    "    #elif amount == 'Total':\n",
    "    #    make_plot(df2, legend=False) # need to fix spacing"
   ]
  },
  {
   "cell_type": "code",
   "execution_count": null,
   "metadata": {
    "collapsed": true,
    "deletable": true,
    "editable": true
   },
   "outputs": [],
   "source": [
    "def winner_plot( year ):\n",
    "    df = winner_table(year)\n",
    "    make_plot(df)"
   ]
  },
  {
   "cell_type": "markdown",
   "metadata": {
    "deletable": true,
    "editable": true
   },
   "source": [
    "## Load and plot data"
   ]
  },
  {
   "cell_type": "code",
   "execution_count": null,
   "metadata": {
    "collapsed": false,
    "deletable": true,
    "editable": true
   },
   "outputs": [],
   "source": [
    "# Find files and set-up variables\n",
    "names = [file.split('.')[0] for file in os.listdir('.')]\n",
    "# load data\n",
    "data_raw = {name: load_data(name) for name in names}"
   ]
  },
  {
   "cell_type": "code",
   "execution_count": null,
   "metadata": {
    "collapsed": false,
    "deletable": true,
    "editable": true
   },
   "outputs": [],
   "source": [
    "cd .."
   ]
  },
  {
   "cell_type": "code",
   "execution_count": null,
   "metadata": {
    "collapsed": false,
    "deletable": true,
    "editable": true
   },
   "outputs": [],
   "source": [
    "# Convert raw data to numerical values (data_val) and points (data_pts)\n",
    "data_val = {name: convert_to_pts(name)  for name in names}\n",
    "data_val = {name: convert_to_zero(name) for name in names}\n",
    "data_pts = {name: get_round_pts(name)   for name in names}"
   ]
  },
  {
   "cell_type": "code",
   "execution_count": null,
   "metadata": {
    "collapsed": false,
    "deletable": true,
    "editable": true
   },
   "outputs": [],
   "source": [
    "make_plot(data_pts['David'], save=True);"
   ]
  },
  {
   "cell_type": "code",
   "execution_count": null,
   "metadata": {
    "collapsed": false,
    "deletable": true,
    "editable": true
   },
   "outputs": [],
   "source": [
    "plot_year(2016, save=True)"
   ]
  },
  {
   "cell_type": "markdown",
   "metadata": {
    "deletable": true,
    "editable": true
   },
   "source": [
    "## Work"
   ]
  },
  {
   "cell_type": "code",
   "execution_count": null,
   "metadata": {
    "collapsed": false,
    "deletable": true,
    "editable": true
   },
   "outputs": [],
   "source": [
    "count_SC('W',sort='Total')"
   ]
  },
  {
   "cell_type": "code",
   "execution_count": null,
   "metadata": {
    "collapsed": false,
    "deletable": true,
    "editable": true
   },
   "outputs": [],
   "source": [
    "plot_SC('W',amount='Total')"
   ]
  },
  {
   "cell_type": "code",
   "execution_count": null,
   "metadata": {
    "collapsed": false,
    "deletable": true,
    "editable": true
   },
   "outputs": [],
   "source": [
    "winner_plot(2016)"
   ]
  },
  {
   "cell_type": "code",
   "execution_count": null,
   "metadata": {
    "collapsed": true,
    "deletable": true,
    "editable": true
   },
   "outputs": [],
   "source": []
  },
  {
   "cell_type": "code",
   "execution_count": null,
   "metadata": {
    "collapsed": true,
    "deletable": true,
    "editable": true
   },
   "outputs": [],
   "source": []
  }
 ],
 "metadata": {
  "kernelspec": {
   "display_name": "Python 3",
   "language": "python",
   "name": "python3"
  },
  "language_info": {
   "codemirror_mode": {
    "name": "ipython",
    "version": 3
   },
   "file_extension": ".py",
   "mimetype": "text/x-python",
   "name": "python",
   "nbconvert_exporter": "python",
   "pygments_lexer": "ipython3",
   "version": "3.6.0"
  }
 },
 "nbformat": 4,
 "nbformat_minor": 0
}
