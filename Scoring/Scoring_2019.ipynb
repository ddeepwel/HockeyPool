{
 "cells": [
  {
   "cell_type": "markdown",
   "metadata": {
    "deletable": true,
    "editable": true
   },
   "source": [
    "# Newer Scoring system"
   ]
  },
  {
   "cell_type": "markdown",
   "metadata": {},
   "source": [
    "The csv file of picks must:\n",
    "\n",
    "    1- have Results as the first row \n",
    "    \n",
    "    2- have games as either 'n Games' or '- Games' where n is an integer"
   ]
  },
  {
   "cell_type": "markdown",
   "metadata": {
    "deletable": true,
    "editable": true
   },
   "source": [
    "## Set-up"
   ]
  },
  {
   "cell_type": "code",
   "execution_count": 1,
   "metadata": {
    "collapsed": false,
    "deletable": true,
    "editable": true
   },
   "outputs": [],
   "source": [
    "import os\n",
    "import numpy as np\n",
    "import pandas as pd\n",
    "import matplotlib.pyplot as plt\n",
    "import matplotlib as mpl\n",
    "\n",
    "# set font to look like Latex\n",
    "font = {'family' : 'serif',\n",
    "        'size'   : 12}\n",
    "mpl.rc('font', **font)"
   ]
  },
  {
   "cell_type": "code",
   "execution_count": 2,
   "metadata": {
    "collapsed": false,
    "deletable": true,
    "editable": true
   },
   "outputs": [],
   "source": [
    "year = 2019\n",
    "os.chdir('./'+str(year)+'/')"
   ]
  },
  {
   "cell_type": "markdown",
   "metadata": {
    "deletable": true,
    "editable": true
   },
   "source": [
    "## Define Functions"
   ]
  },
  {
   "cell_type": "code",
   "execution_count": 3,
   "metadata": {
    "collapsed": true,
    "deletable": true,
    "editable": true
   },
   "outputs": [],
   "source": [
    "def add_legend(ax, axis_bar):\n",
    "    # Shrink current axis by 25%\n",
    "    box = ax.get_position()\n",
    "    ax.set_position([box.x0, box.y0, box.width * 0.75, box.height])\n",
    "\n",
    "    # remove unused elements of a_bar\n",
    "    a_bar2 = list(filter(lambda a: a != 0, axis_bar))\n",
    "\n",
    "    # Put a legend to the right of the current axis\n",
    "    plt.legend(handles=a_bar2, loc='center left',bbox_to_anchor=(1.05,0.5))\n",
    "\n",
    "def save_figure(plt, data):\n",
    "    #os.chdir('Figures')\n",
    "    filename = data.name\n",
    "    form = 'pdf'\n",
    "    plt.savefig(filename+'.'+form, bbox_inches='tight', format=form)\n",
    "    form = 'png'\n",
    "    plt.savefig(filename+'.'+form, bbox_inches='tight', format=form, dpi=300)\n",
    "    #os.chdir('..')"
   ]
  },
  {
   "cell_type": "code",
   "execution_count": 11,
   "metadata": {
    "collapsed": true,
    "deletable": true,
    "editable": true
   },
   "outputs": [],
   "source": [
    "def make_plot(data, save=False, text=True, legend=True):\n",
    "    # data:   the table of everyone's points per round/SC\n",
    "    # save:   save the figure?\n",
    "    # text:   add text values over bars?\n",
    "    # legend: add the legend?\n",
    "    \n",
    "    # make labels for each column of data (row of bar graph)\n",
    "    labels = data.columns\n",
    "    N_labs = len(labels)\n",
    "\n",
    "    # colours to use in each segment\n",
    "    colors = ['#95c4e8','#a3e6be','#fbee9d','#fbbf9d','#e29dfb']\n",
    "\n",
    "    # set-up figure\n",
    "    fig = plt.figure(figsize=(12,0.5*N_labs))\n",
    "    ax = fig.add_subplot(111)\n",
    "    patches = []\n",
    "    a_bar = [0]*5\n",
    "\n",
    "    rounds = ['Round 1', 'Round 2', 'Round 3', 'Round 4', 'Conference']\n",
    "    for label in labels:\n",
    "        r = labels.get_loc(label) - labels.get_loc(labels[0])\n",
    "        widths = data[label].values\n",
    "        left = 0\n",
    "        for ind in range(len(widths)):\n",
    "            w = widths[ind]\n",
    "            if not np.isnan(w):\n",
    "                a_bar[ind] = ax.barh(r, w, align='center', left=left, edgecolor='black',\n",
    "                    color=colors[ind],label=rounds[ind])\n",
    "                patches.append(a_bar[ind])\n",
    "                # add text\n",
    "                patch = patches[-1][0] \n",
    "                bl = patch.get_xy()\n",
    "                x = 0.5*patch.get_width() + bl[0]\n",
    "                y = 0.5*patch.get_height() + bl[1]\n",
    "                if w != 0:\n",
    "                    if text:\n",
    "                        ax.text(x, y, \"%d\" % (w), ha='center',va='center')\n",
    "                left += w\n",
    "            if ind == len(widths)-1:\n",
    "                # add total sum of points outside bar graph\n",
    "                x = bl[0] + patch.get_width() + np.max(df.max())/30\n",
    "                total = np.sum(np.ma.masked_invalid(widths))\n",
    "                if text:\n",
    "                    ax.text(x, y, \"%d\" % (total), ha='center',va='center')\n",
    "\n",
    "    # set axis and add labels\n",
    "    y_pos = np.arange(N_labs)\n",
    "    ax.set_yticks(y_pos)\n",
    "    ax.set_yticklabels(labels)\n",
    "    ax.set_xlim(0,data.sum().max()*1.01)\n",
    "    plt.title(data.name)\n",
    "\n",
    "    # remove plot lines\n",
    "    ax.spines['right'].set_visible(False)\n",
    "    ax.spines['bottom'].set_visible(False)\n",
    "    ax.spines['top'].set_visible(False)\n",
    "    ax.yaxis.set_ticks_position('none')\n",
    "    ax.xaxis.set_ticks_position('none')\n",
    "    ax.get_xaxis().set_ticks([])\n",
    "\n",
    "    if legend:\n",
    "        add_legend(ax, a_bar)\n",
    "    if save:\n",
    "        save_figure(plt, data)\n",
    "    \n",
    "    # display plot inline\n",
    "    plt.show();"
   ]
  },
  {
   "cell_type": "code",
   "execution_count": 5,
   "metadata": {
    "collapsed": false,
    "deletable": true,
    "editable": true
   },
   "outputs": [],
   "source": [
    "def read_round(year, rnd):\n",
    "    # adjust for Stanley cup (the finals) picks\n",
    "    rnd_orig = rnd\n",
    "    if rnd == 'SC':\n",
    "        rnd_orig = 'SC'\n",
    "        rnd = 1\n",
    "\n",
    "    fname = str(year)+' Friendly Playoff Pool Round '+str(rnd)+'.csv'    # read file\n",
    "    if os.path.isfile(fname):    \n",
    "        # if file exists, return a pandas table\n",
    "        fdata = pd.read_csv(fname, sep=',')\n",
    "        \n",
    "        # make the names of people the index (the row name)\n",
    "        fdata.index = fdata['Name:']\n",
    "\n",
    "        # over write the column headers\n",
    "        header = fdata.columns.values\n",
    "        if rnd == 1:\n",
    "            header[2:] = ['T1','G1','T2','G2','T3','G3','T4','G4','T5','G5','T6','G6','T7','G7','T8','G8','WCC','ECC','SCC']\n",
    "        elif rnd == 2:\n",
    "            header[2:] = ['T1','G1','T2','G2','T3','G3','T4','G4']\n",
    "        elif rnd == 3:\n",
    "            header[2:] = ['T1','G1','T2','G2']\n",
    "        elif rnd == 4:\n",
    "            header[2:] = ['T1','G1']\n",
    "        fdata.columns = header\n",
    "\n",
    "        # Remove 'Games' in games columns and cast numbers to integer\n",
    "        N_series = 2**(4-rnd)      # number of series in round\n",
    "        for ind in ['G'+str(x) for x in range(1,N_series+1)]:\n",
    "            if fdata[ind].values[0] == '- Games':\n",
    "                # set to an integer because arithemtic won't work later (a python thing)\n",
    "                fdata[ind].values[0] = '0 Games'\n",
    "            # remove and cast\n",
    "            fdata[ind] = fdata[ind].map(lambda x: x.rstrip(' Games')).astype(int)\n",
    "    else:\n",
    "        # if file does NOT exists, return a string\n",
    "        fdata = '-'\n",
    "    \n",
    "    if rnd_orig == 'SC':\n",
    "        fdata = fdata.loc[:,['Name:','WCC','ECC','SCC']]\n",
    "    return fdata"
   ]
  },
  {
   "cell_type": "code",
   "execution_count": 6,
   "metadata": {
    "collapsed": true,
    "deletable": true,
    "editable": true
   },
   "outputs": [],
   "source": [
    "def get_round_points(year, rnd):\n",
    "    df = read_round(year, rnd)\n",
    "    if not isinstance(df, str):\n",
    "        N_people = df.shape[0]-1\n",
    "        pts = [0]*N_people\n",
    "        if rnd == 'SC':\n",
    "            team_correct = df.iloc[0].values\n",
    "            for ind in range(1,N_people+1):\n",
    "                team_pick = df.iloc[ind].values\n",
    "                pts[ind-1] = np.where(team_correct == team_pick,\n",
    "                                     6, np.NaN).sum()\n",
    "        else:\n",
    "            N_series = 2**(4-rnd)      # number of series in round\n",
    "            team_cols = range(2,2*N_series+2,2)  # columns of team picks\n",
    "            game_cols = range(3,2*N_series+2,2)  # columns of game picks\n",
    "            team_correct = df.iloc[0].values[team_cols]\n",
    "            game_correct = df.iloc[0].values[game_cols]\n",
    "            for ind in range(1,N_people+1):\n",
    "                team_pick = df.iloc[ind].values[team_cols]\n",
    "                game_pick = df.iloc[ind].values[game_cols]\n",
    "                pts[ind-1] = np.where(team_correct == team_pick,\n",
    "                            # if true\n",
    "                            #14 - np.abs(game_correct - game_pick)\n",
    "                            #         - (game_correct + game_pick)/2,\n",
    "                            #8 - np.abs(game_correct - game_pick)/2,\n",
    "                            9 - np.abs(game_correct - game_pick),\n",
    "                            # if false\n",
    "                            np.where(game_correct == 0,\n",
    "                                     0*game_pick,\n",
    "                                     -8 + game_correct + game_pick)).sum()\n",
    "        ser = pd.Series(pts, index=df['Name:'].values[1:])\n",
    "    else:\n",
    "        ser = '-'\n",
    "    return ser"
   ]
  },
  {
   "cell_type": "code",
   "execution_count": 7,
   "metadata": {
    "collapsed": false,
    "deletable": true,
    "editable": true
   },
   "outputs": [],
   "source": [
    "def get_round_points_old(year, rnd):\n",
    "    df = read_round(year, rnd)\n",
    "    if not isinstance(df, str):\n",
    "        N_people = df.shape[0]-1\n",
    "        pts = [0]*N_people\n",
    "        if rnd == 'SC':\n",
    "            team_correct = df.iloc[0].values\n",
    "            # still need to fix this\n",
    "            #for ind in range(1,N_people+1):\n",
    "            #    team_pick = df.iloc[ind].values\n",
    "            #    pts[ind-1] = np.where(team_correct == team_pick,\n",
    "            #                         3, 0).sum()\n",
    "        else:\n",
    "            N_series = 2**(4-rnd)      # number of series in round\n",
    "            team_cols = range(2,2*N_series+2,2)  # columns of team picks\n",
    "            game_cols = range(3,2*N_series+2,2)  # columns of game picks\n",
    "            team_correct = df.iloc[0].values[team_cols]\n",
    "            game_correct = df.iloc[0].values[game_cols]\n",
    "            for ind in range(1,N_people+1):\n",
    "                team_pick = df.iloc[ind].values[team_cols]\n",
    "                game_pick = df.iloc[ind].values[game_cols]\n",
    "                pts[ind-1] = np.where(team_correct == team_pick,\n",
    "                            10,0).sum() + np.where(game_correct == game_pick,\n",
    "                            5,0).sum()\n",
    "        ser = pd.Series(pts, index=df['Name:'].values[1:])\n",
    "    else:\n",
    "        ser = '-'\n",
    "    return ser"
   ]
  },
  {
   "cell_type": "code",
   "execution_count": 8,
   "metadata": {
    "collapsed": true,
    "deletable": true,
    "editable": true
   },
   "outputs": [],
   "source": [
    "def get_year_table(year):\n",
    "    # get points for all people in all rounds\n",
    "    r1 = get_round_points(year, 1)\n",
    "    r2 = get_round_points(year, 2)\n",
    "    r3 = get_round_points(year, 3)\n",
    "    r4 = get_round_points(year, 4)\n",
    "    SC = get_round_points(year, 'SC')\n",
    "    \n",
    "    # create lists of people who participated in each round\n",
    "    r1names = r1.index.values\n",
    "    if not isinstance(r2, str):\n",
    "        r2names = r2.index.values\n",
    "    else:\n",
    "        r2names = '-'\n",
    "    if not isinstance(r3, str):\n",
    "        r3names = r3.index.values\n",
    "    else:\n",
    "        r3names = '-'\n",
    "    if not isinstance(r4, str):\n",
    "        r4names = r4.index.values\n",
    "    else:\n",
    "        r4names = '-'\n",
    "        \n",
    "    # create a list of all the people who participated in the year\n",
    "    all_names = r1names\n",
    "    # compare round 2 to round 1\n",
    "    if not isinstance(r2, str):\n",
    "        diff = np.setdiff1d(r2names,all_names)\n",
    "        all_names = np.append(all_names,diff)\n",
    "    # compare round 3 to round 1 and 2\n",
    "    if not isinstance(r3, str):\n",
    "        diff = np.setdiff1d(r3names,all_names)\n",
    "        all_names = np.append(all_names,diff)\n",
    "    # compare round 4 to round 1 and 2 and 3\n",
    "    if not isinstance(r4, str):\n",
    "        diff = np.setdiff1d(r4names,all_names)\n",
    "        all_names = np.append(all_names,diff)\n",
    "    all_names = np.sort(all_names)\n",
    "    \n",
    "    # put all people into each round\n",
    "    pts1  = [0]*all_names.size\n",
    "    pts2  = [0]*all_names.size\n",
    "    pts3  = [0]*all_names.size\n",
    "    pts4  = [0]*all_names.size\n",
    "    ptsSC = [0]*all_names.size\n",
    "    ind = 0\n",
    "    for name in all_names:\n",
    "        # Round 1 points\n",
    "        if name in r1names:\n",
    "            pts1[ind] = r1[name]\n",
    "        else:\n",
    "            pts1[ind] = np.NaN\n",
    "        # Round 2 points\n",
    "        if name in r2names:\n",
    "            pts2[ind] = r2[name]\n",
    "        else:\n",
    "            pts2[ind] = np.NaN\n",
    "        # Round 3 points\n",
    "        if name in r3names:\n",
    "            pts3[ind] = r3[name]\n",
    "        else:\n",
    "            pts3[ind] = np.NaN\n",
    "        # Round 4 points\n",
    "        if name in r4names:\n",
    "            pts4[ind] = r4[name]\n",
    "        else:\n",
    "            pts4[ind] = np.NaN\n",
    "        # Stanley Cup round points\n",
    "        if name in r1names:\n",
    "            ptsSC[ind] = SC[name]\n",
    "        else:\n",
    "            ptsSC[ind] = np.NaN\n",
    "        # increase the name index\n",
    "        ind = ind+1\n",
    "    \n",
    "    # Put in a large table\n",
    "    all_score = np.vstack((pts1,pts2,pts3,pts4,ptsSC))\n",
    "    df = pd.DataFrame(all_score, index=['R1', 'R2', 'R3', 'R4', 'SC'])\n",
    "    df.columns = all_names\n",
    "    \n",
    "    return df"
   ]
  },
  {
   "cell_type": "markdown",
   "metadata": {
    "deletable": true,
    "editable": true
   },
   "source": [
    "## Work"
   ]
  },
  {
   "cell_type": "code",
   "execution_count": 9,
   "metadata": {
    "collapsed": false,
    "deletable": true,
    "editable": true
   },
   "outputs": [
    {
     "data": {
      "text/html": [
       "<div>\n",
       "<table border=\"1\" class=\"dataframe\">\n",
       "  <thead>\n",
       "    <tr style=\"text-align: right;\">\n",
       "      <th></th>\n",
       "      <th>Alita</th>\n",
       "      <th>Andre</th>\n",
       "      <th>Andres</th>\n",
       "      <th>Andrew</th>\n",
       "      <th>Anthony</th>\n",
       "      <th>Brian</th>\n",
       "      <th>David</th>\n",
       "      <th>Jack</th>\n",
       "      <th>Jeremy</th>\n",
       "      <th>Jon</th>\n",
       "      <th>Josh</th>\n",
       "      <th>Kollin</th>\n",
       "      <th>Kyle</th>\n",
       "      <th>Mark</th>\n",
       "      <th>Michael</th>\n",
       "      <th>Nathan</th>\n",
       "      <th>Ron</th>\n",
       "    </tr>\n",
       "  </thead>\n",
       "  <tbody>\n",
       "    <tr>\n",
       "      <th>R1</th>\n",
       "      <td>50.0</td>\n",
       "      <td>36.0</td>\n",
       "      <td>25.0</td>\n",
       "      <td>35.0</td>\n",
       "      <td>35.0</td>\n",
       "      <td>33.0</td>\n",
       "      <td>38.0</td>\n",
       "      <td>29.0</td>\n",
       "      <td>30.0</td>\n",
       "      <td>28.0</td>\n",
       "      <td>29.0</td>\n",
       "      <td>31.0</td>\n",
       "      <td>31.0</td>\n",
       "      <td>29.0</td>\n",
       "      <td>32.0</td>\n",
       "      <td>31.0</td>\n",
       "      <td>30.0</td>\n",
       "    </tr>\n",
       "    <tr>\n",
       "      <th>R2</th>\n",
       "      <td>NaN</td>\n",
       "      <td>NaN</td>\n",
       "      <td>NaN</td>\n",
       "      <td>NaN</td>\n",
       "      <td>NaN</td>\n",
       "      <td>NaN</td>\n",
       "      <td>NaN</td>\n",
       "      <td>NaN</td>\n",
       "      <td>NaN</td>\n",
       "      <td>NaN</td>\n",
       "      <td>NaN</td>\n",
       "      <td>NaN</td>\n",
       "      <td>NaN</td>\n",
       "      <td>NaN</td>\n",
       "      <td>NaN</td>\n",
       "      <td>NaN</td>\n",
       "      <td>NaN</td>\n",
       "    </tr>\n",
       "    <tr>\n",
       "      <th>R3</th>\n",
       "      <td>NaN</td>\n",
       "      <td>NaN</td>\n",
       "      <td>NaN</td>\n",
       "      <td>NaN</td>\n",
       "      <td>NaN</td>\n",
       "      <td>NaN</td>\n",
       "      <td>NaN</td>\n",
       "      <td>NaN</td>\n",
       "      <td>NaN</td>\n",
       "      <td>NaN</td>\n",
       "      <td>NaN</td>\n",
       "      <td>NaN</td>\n",
       "      <td>NaN</td>\n",
       "      <td>NaN</td>\n",
       "      <td>NaN</td>\n",
       "      <td>NaN</td>\n",
       "      <td>NaN</td>\n",
       "    </tr>\n",
       "    <tr>\n",
       "      <th>R4</th>\n",
       "      <td>NaN</td>\n",
       "      <td>NaN</td>\n",
       "      <td>NaN</td>\n",
       "      <td>NaN</td>\n",
       "      <td>NaN</td>\n",
       "      <td>NaN</td>\n",
       "      <td>NaN</td>\n",
       "      <td>NaN</td>\n",
       "      <td>NaN</td>\n",
       "      <td>NaN</td>\n",
       "      <td>NaN</td>\n",
       "      <td>NaN</td>\n",
       "      <td>NaN</td>\n",
       "      <td>NaN</td>\n",
       "      <td>NaN</td>\n",
       "      <td>NaN</td>\n",
       "      <td>NaN</td>\n",
       "    </tr>\n",
       "    <tr>\n",
       "      <th>SC</th>\n",
       "      <td>NaN</td>\n",
       "      <td>NaN</td>\n",
       "      <td>NaN</td>\n",
       "      <td>NaN</td>\n",
       "      <td>NaN</td>\n",
       "      <td>NaN</td>\n",
       "      <td>NaN</td>\n",
       "      <td>NaN</td>\n",
       "      <td>NaN</td>\n",
       "      <td>NaN</td>\n",
       "      <td>NaN</td>\n",
       "      <td>NaN</td>\n",
       "      <td>NaN</td>\n",
       "      <td>NaN</td>\n",
       "      <td>NaN</td>\n",
       "      <td>NaN</td>\n",
       "      <td>NaN</td>\n",
       "    </tr>\n",
       "  </tbody>\n",
       "</table>\n",
       "</div>"
      ],
      "text/plain": [
       "    Alita  Andre  Andres  Andrew  Anthony  Brian  David  Jack  Jeremy   Jon  \\\n",
       "R1   50.0   36.0    25.0    35.0     35.0   33.0   38.0  29.0    30.0  28.0   \n",
       "R2    NaN    NaN     NaN     NaN      NaN    NaN    NaN   NaN     NaN   NaN   \n",
       "R3    NaN    NaN     NaN     NaN      NaN    NaN    NaN   NaN     NaN   NaN   \n",
       "R4    NaN    NaN     NaN     NaN      NaN    NaN    NaN   NaN     NaN   NaN   \n",
       "SC    NaN    NaN     NaN     NaN      NaN    NaN    NaN   NaN     NaN   NaN   \n",
       "\n",
       "    Josh  Kollin  Kyle  Mark  Michael  Nathan   Ron  \n",
       "R1  29.0    31.0  31.0  29.0     32.0    31.0  30.0  \n",
       "R2   NaN     NaN   NaN   NaN      NaN     NaN   NaN  \n",
       "R3   NaN     NaN   NaN   NaN      NaN     NaN   NaN  \n",
       "R4   NaN     NaN   NaN   NaN      NaN     NaN   NaN  \n",
       "SC   NaN     NaN   NaN   NaN      NaN     NaN   NaN  "
      ]
     },
     "execution_count": 9,
     "metadata": {},
     "output_type": "execute_result"
    }
   ],
   "source": [
    "df = get_year_table(year)\n",
    "df"
   ]
  },
  {
   "cell_type": "code",
   "execution_count": 13,
   "metadata": {
    "collapsed": false,
    "deletable": true,
    "editable": true
   },
   "outputs": [
    {
     "data": {
      "image/png": "[encoded data removed]",
      "text/plain": [
       "<matplotlib.figure.Figure at 0x1111457f0>"
      ]
     },
     "metadata": {},
     "output_type": "display_data"
    }
   ],
   "source": [
    "#make_plot(df, save=False, text=True, legend=True):\n",
    "df_sorted = df.reindex_axis(df.sum(axis=0).sort_values(ascending=True).index, axis=1)\n",
    "df_sorted.name = 'Points - '+str(year)\n",
    "#make_plot(df_sorted, save=False)\n",
    "make_plot(df_sorted, save=False)"
   ]
  },
  {
   "cell_type": "markdown",
   "metadata": {
    "deletable": true,
    "editable": true
   },
   "source": [
    "## Old scoring systems points"
   ]
  },
  {
   "cell_type": "code",
   "execution_count": 11,
   "metadata": {
    "collapsed": false,
    "deletable": true,
    "editable": true
   },
   "outputs": [
    {
     "data": {
      "image/png": "[encoded data removed]",
      "text/plain": [
       "<matplotlib.figure.Figure at 0x1144ea0f0>"
      ]
     },
     "metadata": {},
     "output_type": "display_data"
    }
   ],
   "source": [
    "df = get_year_table(2019)\n",
    "df_sorted = df.reindex_axis(df.sum(axis=0).sort_values(ascending=True).index, axis=1)\n",
    "df_sorted.name = 'Points - '+str(2019)\n",
    "make_plot(df_sorted, save=False)"
   ]
  },
  {
   "cell_type": "markdown",
   "metadata": {
    "collapsed": true,
    "deletable": true,
    "editable": true
   },
   "source": [
    "## Other scoring systems points"
   ]
  }
 ],
 "metadata": {
  "kernelspec": {
   "display_name": "Python 3",
   "language": "python",
   "name": "python3"
  },
  "language_info": {
   "codemirror_mode": {
    "name": "ipython",
    "version": 3
   },
   "file_extension": ".py",
   "mimetype": "text/x-python",
   "name": "python",
   "nbconvert_exporter": "python",
   "pygments_lexer": "ipython3",
   "version": "3.6.0"
  }
 },
 "nbformat": 4,
 "nbformat_minor": 0
}
