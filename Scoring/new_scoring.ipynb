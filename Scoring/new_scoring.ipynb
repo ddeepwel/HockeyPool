{
 "cells": [
  {
   "cell_type": "markdown",
   "metadata": {
    "deletable": true,
    "editable": true
   },
   "source": [
    "# New Scoring system"
   ]
  },
  {
   "cell_type": "markdown",
   "metadata": {
    "deletable": true,
    "editable": true
   },
   "source": [
    "## Set-up"
   ]
  },
  {
   "cell_type": "code",
   "execution_count": 1,
   "metadata": {
    "collapsed": false,
    "deletable": true,
    "editable": true
   },
   "outputs": [],
   "source": [
    "import os\n",
    "import numpy as np\n",
    "import pandas as pd\n",
    "import matplotlib.pyplot as plt\n",
    "import matplotlib as mpl"
   ]
  },
  {
   "cell_type": "code",
   "execution_count": 2,
   "metadata": {
    "collapsed": false,
    "deletable": true,
    "editable": true
   },
   "outputs": [],
   "source": [
    "#font = {'family' : 'helvetica',  # need to download helvetica\n",
    "#        'size'   : 12}\n",
    "\n",
    "font = {'family' : 'serif',\n",
    "        'size'   : 12}\n",
    "mpl.rc('font', **font)"
   ]
  },
  {
   "cell_type": "code",
   "execution_count": 3,
   "metadata": {
    "collapsed": false,
    "deletable": true,
    "editable": true
   },
   "outputs": [
    {
     "name": "stdout",
     "output_type": "stream",
     "text": [
      "/Users/daviddeepwell/Documents/Hockey/Hockey Pool/Playoffs/2017\n"
     ]
    }
   ],
   "source": [
    "cd 2017/"
   ]
  },
  {
   "cell_type": "markdown",
   "metadata": {
    "deletable": true,
    "editable": true
   },
   "source": [
    "## Define Functions"
   ]
  },
  {
   "cell_type": "code",
   "execution_count": 4,
   "metadata": {
    "collapsed": true,
    "deletable": true,
    "editable": true
   },
   "outputs": [],
   "source": [
    "def make_plot(data, save=False, text=True, legend=True):\n",
    "    # make labels for each column of data (row of bar graph)\n",
    "    labels = data.columns\n",
    "    N_labs = len(labels)\n",
    "    if not hasattr(data, 'name'):\n",
    "        data.name = 'Winners'\n",
    "    name_str = data.name\n",
    "    name = name_str.split(\" - \")[-1]\n",
    "    #if labels.dtype == np.array([object()]).dtype:\n",
    "    #    add_asterix = False\n",
    "    #else:\n",
    "    #    add_asterix = True\n",
    "    #winner = False\n",
    "\n",
    "    # colours to use in each segment\n",
    "    colors = ['#95c4e8','#a3e6be','#fbee9d','#fbbf9d','#e29dfb']\n",
    "\n",
    "    # set-up figure\n",
    "    fig = plt.figure(figsize=(12,0.5*N_labs))\n",
    "    ax = fig.add_subplot(111)\n",
    "    #plt.rc('text', usetex=false)\n",
    "    #plt.rc('font', family='serif')\n",
    "    patches = []\n",
    "    a_bar = [0]*5\n",
    "\n",
    "    rounds = ['Round 1', 'Round 2', 'Round 3', 'Round 4']\n",
    "    for label in labels:\n",
    "        r = labels.get_loc(label) - labels.get_loc(labels[0])\n",
    "        widths = data[label].values\n",
    "        left = data[label][-1] \n",
    "        for ind in range(len(widths)-1):\n",
    "            w = widths[ind]\n",
    "            if not np.isnan(w):\n",
    "                a_bar[ind] = ax.barh(r, w, align='center', left=left, edgecolor='black',\n",
    "                    color=colors[ind],label=rounds[ind])\n",
    "                patches.append(a_bar[ind])\n",
    "                # add text\n",
    "                patch = patches[-1][0] \n",
    "                bl = patch.get_xy()\n",
    "                x = 0.5*patch.get_width() + bl[0]\n",
    "                y = 0.5*patch.get_height() + bl[1]\n",
    "                if text:\n",
    "                    ax.text(x, y, \"%d\" % (w), ha='center',va='center')\n",
    "                else:\n",
    "                    ax.text(x, y, \"%.2f\" % (w), ha='center',va='center')\n",
    "                left += w\n",
    "            if ind == len(widths)-2:\n",
    "                xr = bl[0] + patch.get_width() + 2\n",
    "                xl = data[label][-1] - 1\n",
    "                total = np.sum(np.ma.masked_invalid(widths))\n",
    "                if text:\n",
    "                    #if add_asterix:\n",
    "                    #    if find_winner(label) == name:\n",
    "                    #        ax.text(xr, y, \"%d*\" % (total), ha='center',va='center')\n",
    "                    #        winner = True\n",
    "                    #    else:\n",
    "                    #        ax.text(xr, y, \"%d\" % (total), ha='center',va='center')\n",
    "                    #else:\n",
    "                    #    ax.text(xr, y, \"%d\" % (total), ha='center',va='center')\n",
    "                    ax.text(xr, y, \"%d\" % (total), ha='center',va='center')\n",
    "                    ax.text(xl, y, \"%d\" % (data[label][-1]), ha='center',va='center')\n",
    "\n",
    "    # set axis and add labels\n",
    "    y_pos = np.arange(N_labs)\n",
    "    ax.set_yticks(y_pos)\n",
    "    ax.set_yticklabels(labels)\n",
    "    #ax.set_xlabel('Points')\n",
    "    plt.title(data.name)\n",
    "    ax.set_xlim([data.loc['SC'].min()-2, data.sum().max()+1])\n",
    "\n",
    "    # remove plot lines\n",
    "    ax.spines['right'].set_visible(False)\n",
    "    ax.spines['bottom'].set_visible(False)\n",
    "    ax.spines['top'].set_visible(False)\n",
    "    ax.yaxis.set_ticks_position('none')\n",
    "    ax.xaxis.set_ticks_position('none')\n",
    "    ax.get_xaxis().set_ticks([])\n",
    "\n",
    "    if legend:\n",
    "        # Shrink current axis by 25%\n",
    "        box = ax.get_position()\n",
    "        ax.set_position([box.x0, box.y0, box.width * 0.75, box.height])\n",
    "\n",
    "        # remove unused elements of a_bar\n",
    "        a_bar2 = list(filter(lambda a: a != 0, a_bar))\n",
    "    \n",
    "        # Put a legend to the right of the current axis\n",
    "        #if winner:\n",
    "        #    plt.legend(handles=a_bar2, loc='center left',bbox_to_anchor=(1.05,0.5),title='* Winner')\n",
    "        #else:\n",
    "        #    plt.legend(handles=a_bar2, loc='center left',bbox_to_anchor=(1.05,0.5))\n",
    "        plt.legend(handles=a_bar2, loc='center left',bbox_to_anchor=(1.05,0.5))\n",
    "    \n",
    "    # save figure\n",
    "    if save:\n",
    "        os.chdir('Figures')\n",
    "        filename = data.name\n",
    "        form = 'pdf'\n",
    "        plt.savefig(filename+'.'+form, bbox_inches='tight', format=form)\n",
    "        os.chdir('..')\n",
    "    \n",
    "    # display plot inline\n",
    "    plt.show();"
   ]
  },
  {
   "cell_type": "code",
   "execution_count": 4,
   "metadata": {
    "collapsed": false,
    "deletable": true,
    "editable": true
   },
   "outputs": [],
   "source": [
    "def read_round(year, rnd):\n",
    "    fname = str(year)+' Friendly Playoff Pool Round '+str(rnd)+'.csv'\n",
    "    if os.path.isfile(fname):\n",
    "        fdata = pd.read_csv(fname, sep=',')\n",
    "        header = fdata.columns.values\n",
    "        if rnd == 1:\n",
    "            header[2:] = ['T1','G1','T2','G2','T3','G3','T4','G4','T5','G5','T6','G6','T7','G7','T8','G8','SC','R']\n",
    "        elif rnd == 2:\n",
    "            header[2:] = ['T1','G1','T2','G2','T3','G3','T4','G4']\n",
    "        elif rnd == 3:\n",
    "            header[2:] = ['T1','G1','T2','G2']\n",
    "        elif rnd == 4:\n",
    "            header[2:] = ['T1','G1']\n",
    "        fdata.columns = header\n",
    "        # Remove the string 'Games' in games columns\n",
    "        max_ind = 2**(4-rnd)+1\n",
    "        for ind in ['G'+str(x) for x in range(1,max_ind)]:\n",
    "            if not fdata[ind].values[0] == '- Games':\n",
    "                fdata[ind] = fdata[ind].map(lambda x: x.rstrip(' Games')).astype(int)\n",
    "            else:\n",
    "                if rnd == 1:\n",
    "                    fdata.iloc[0].values[3:-2:2] = '0 Games'\n",
    "                else:\n",
    "                    fdata.iloc[0].values[3::2] = '0 Games'\n",
    "                fdata[ind] = fdata[ind].map(lambda x: x.rstrip(' Games')).astype(int)\n",
    "    else:\n",
    "        fdata = '-'\n",
    "    return fdata"
   ]
  },
  {
   "cell_type": "code",
   "execution_count": 5,
   "metadata": {
    "collapsed": false,
    "deletable": true,
    "editable": true
   },
   "outputs": [],
   "source": [
    "def get_round_points(year, rnd):\n",
    "    df = read_round(year, rnd)\n",
    "    if not isinstance(df, str):\n",
    "        N_people = df.shape[0]-1\n",
    "        pts = [0]*N_people\n",
    "        for ind in range(1,N_people+1):\n",
    "            if rnd == 1:\n",
    "                pts[ind-1] = np.where(df.iloc[0].values[2:-2:2] == df.iloc[ind].values[2:-2:2], \n",
    "                    np.abs(df.iloc[0].values[3:-1:2]  - df.iloc[ind].values[3:-1:2]),\n",
    "                    16 -   df.iloc[0].values[3:-1:2]  - df.iloc[ind].values[3:-1:2]).sum()\n",
    "            else:\n",
    "                pts[ind-1] = np.where(df.iloc[0].values[3::2] == 0,0,\n",
    "                    np.where(df.iloc[0].values[2::2] == df.iloc[ind].values[2::2], \n",
    "                    np.abs(df.iloc[0].values[3::2]  - df.iloc[ind].values[3::2]),\n",
    "                    16 -   df.iloc[0].values[3::2]  - df.iloc[ind].values[3::2])).sum()\n",
    "        ser = pd.Series(pts, index=df['Name:'].values[1:])\n",
    "    else:\n",
    "        ser = '-'\n",
    "    return ser"
   ]
  },
  {
   "cell_type": "markdown",
   "metadata": {
    "deletable": true,
    "editable": true
   },
   "source": [
    "## Work"
   ]
  },
  {
   "cell_type": "code",
   "execution_count": 6,
   "metadata": {
    "collapsed": false,
    "deletable": true,
    "editable": true
   },
   "outputs": [],
   "source": [
    "r1 = get_round_points(2017, 1)\n",
    "r2 = get_round_points(2017, 2)\n",
    "r3 = get_round_points(2017, 3)\n",
    "r4 = get_round_points(2017, 4)"
   ]
  },
  {
   "cell_type": "code",
   "execution_count": 8,
   "metadata": {
    "collapsed": false,
    "deletable": true,
    "editable": true
   },
   "outputs": [],
   "source": [
    "r1names = r1.index.values\n",
    "if not isinstance(r2, str):\n",
    "    r2names = r2.index.values\n",
    "else:\n",
    "    r2names = '-'\n",
    "if not isinstance(r3, str):\n",
    "    r3names = r3.index.values\n",
    "else:\n",
    "    r3names = '-'\n",
    "if not isinstance(r4, str):\n",
    "    r4names = r4.index.values\n",
    "else:\n",
    "    r4names = '-'"
   ]
  },
  {
   "cell_type": "code",
   "execution_count": 9,
   "metadata": {
    "collapsed": false,
    "deletable": true,
    "editable": true
   },
   "outputs": [],
   "source": [
    "# compare names in different lists\n",
    "all_names = r1names\n",
    "#l3 = [x for x in r2names if x not in all_names]"
   ]
  },
  {
   "cell_type": "code",
   "execution_count": 10,
   "metadata": {
    "collapsed": true,
    "deletable": true,
    "editable": true
   },
   "outputs": [],
   "source": [
    "pts1 = [0]*all_names.size\n",
    "pts2 = [0]*all_names.size\n",
    "pts3 = [0]*all_names.size\n",
    "pts4 = [0]*all_names.size\n",
    "#SC = [0]*all_names.size\n",
    "ind = 0\n",
    "for name in all_names:\n",
    "    if name in r1names:\n",
    "        pts1[ind] = r1[name]\n",
    "    else:\n",
    "        pts1[ind] = np.NaN\n",
    "    if name in r2names:\n",
    "        pts2[ind] = r2[name]\n",
    "    else:\n",
    "        pts2[ind] = np.NaN\n",
    "    if name in r3names:\n",
    "        pts3[ind] = r3[name]\n",
    "    else:\n",
    "        pts3[ind] = np.NaN\n",
    "    if name in r4names:\n",
    "        pts4[ind] = r4[name]\n",
    "    else:\n",
    "        pts4[ind] = np.NaN\n",
    "    #if name in r1names:\n",
    "    #    SC[ind] = np.NaN\n",
    "    #else:\n",
    "    #    pts4[ind] = np.NaN\n",
    "    ind = ind+1"
   ]
  },
  {
   "cell_type": "code",
   "execution_count": 11,
   "metadata": {
    "collapsed": false,
    "deletable": true,
    "editable": true
   },
   "outputs": [],
   "source": [
    "# get peoples SC picks\n",
    "df = read_round(2017, 1)\n",
    "SCpicks = df.loc[1:,['SC','R']].set_index(df['Name:'].values[1:])"
   ]
  },
  {
   "cell_type": "code",
   "execution_count": 12,
   "metadata": {
    "collapsed": false,
    "deletable": true,
    "editable": true
   },
   "outputs": [],
   "source": [
    "# Find winners of each round\n",
    "winners = [np.array([np.NaN],dtype=object)]*4\n",
    "for rnd in range(5):\n",
    "    df = read_round(2017, rnd)\n",
    "    if not isinstance(df, str):\n",
    "        if rnd == 1:\n",
    "            winners[rnd-1] = df.iloc[0][2:-2:2].values\n",
    "        else:\n",
    "            winners[rnd-1] = df.iloc[0][2::2].values"
   ]
  },
  {
   "cell_type": "code",
   "execution_count": 13,
   "metadata": {
    "collapsed": true,
    "deletable": true,
    "editable": true
   },
   "outputs": [],
   "source": [
    "# Get SC points\n",
    "N_SC = len(SCpicks.index)\n",
    "SCpts = np.array([0]*N_SC)\n",
    "for nn in range(N_SC):\n",
    "    SCtrack = np.array([0]*8)\n",
    "    for rnd in range(4):\n",
    "        for ind in range(2):\n",
    "            if rnd < 3:\n",
    "                SCtrack[ind+rnd*2] = (SCpicks.iloc[nn].values[ind] in winners[rnd])\n",
    "            elif ind == 0: # In 4th round only need to check SC winner\n",
    "                    SCtrack[ind+rnd*2] = SCpicks.iloc[nn].values[ind] == winners[3]\n",
    "    SCpts[nn] = SCtrack.sum()"
   ]
  },
  {
   "cell_type": "code",
   "execution_count": 14,
   "metadata": {
    "collapsed": false,
    "deletable": true,
    "editable": true
   },
   "outputs": [],
   "source": [
    "all_score = np.vstack((pts1,pts2,pts3,pts4,-SCpts))\n",
    "df = pd.DataFrame(all_score, index=['R1', 'R2', 'R3', 'R4', 'SC'])\n",
    "df.columns = all_names"
   ]
  },
  {
   "cell_type": "code",
   "execution_count": 15,
   "metadata": {
    "collapsed": false,
    "deletable": true,
    "editable": true
   },
   "outputs": [],
   "source": [
    "df_sorted = df.reindex_axis(df.sum(axis=0).sort_values(ascending=False).index, axis=1)\n",
    "df_sorted.name = 'Points - '+str(2017)"
   ]
  },
  {
   "cell_type": "code",
   "execution_count": 16,
   "metadata": {
    "collapsed": false,
    "deletable": true,
    "editable": true
   },
   "outputs": [
    {
     "data": {
      "text/html": [
       "<div>\n",
       "<table border=\"1\" class=\"dataframe\">\n",
       "  <thead>\n",
       "    <tr style=\"text-align: right;\">\n",
       "      <th></th>\n",
       "      <th>Alita</th>\n",
       "      <th>Kyle</th>\n",
       "      <th>Kollin</th>\n",
       "      <th>Ron</th>\n",
       "      <th>Michael</th>\n",
       "      <th>Andre</th>\n",
       "      <th>Anthony</th>\n",
       "      <th>Jackson</th>\n",
       "      <th>Josh</th>\n",
       "      <th>Romulus</th>\n",
       "      <th>David</th>\n",
       "      <th>Jeremy</th>\n",
       "      <th>Brian</th>\n",
       "      <th>Matt</th>\n",
       "    </tr>\n",
       "  </thead>\n",
       "  <tbody>\n",
       "    <tr>\n",
       "      <th>R1</th>\n",
       "      <td>28.0</td>\n",
       "      <td>21.0</td>\n",
       "      <td>17.0</td>\n",
       "      <td>23.0</td>\n",
       "      <td>22.0</td>\n",
       "      <td>23.0</td>\n",
       "      <td>22.0</td>\n",
       "      <td>20.0</td>\n",
       "      <td>18.0</td>\n",
       "      <td>14.0</td>\n",
       "      <td>21.0</td>\n",
       "      <td>19.0</td>\n",
       "      <td>15.0</td>\n",
       "      <td>24.0</td>\n",
       "    </tr>\n",
       "    <tr>\n",
       "      <th>R2</th>\n",
       "      <td>14.0</td>\n",
       "      <td>10.0</td>\n",
       "      <td>12.0</td>\n",
       "      <td>5.0</td>\n",
       "      <td>8.0</td>\n",
       "      <td>8.0</td>\n",
       "      <td>9.0</td>\n",
       "      <td>4.0</td>\n",
       "      <td>5.0</td>\n",
       "      <td>12.0</td>\n",
       "      <td>0.0</td>\n",
       "      <td>8.0</td>\n",
       "      <td>4.0</td>\n",
       "      <td>NaN</td>\n",
       "    </tr>\n",
       "    <tr>\n",
       "      <th>R3</th>\n",
       "      <td>2.0</td>\n",
       "      <td>6.0</td>\n",
       "      <td>6.0</td>\n",
       "      <td>2.0</td>\n",
       "      <td>7.0</td>\n",
       "      <td>1.0</td>\n",
       "      <td>0.0</td>\n",
       "      <td>3.0</td>\n",
       "      <td>1.0</td>\n",
       "      <td>1.0</td>\n",
       "      <td>1.0</td>\n",
       "      <td>0.0</td>\n",
       "      <td>0.0</td>\n",
       "      <td>NaN</td>\n",
       "    </tr>\n",
       "    <tr>\n",
       "      <th>R4</th>\n",
       "      <td>1.0</td>\n",
       "      <td>4.0</td>\n",
       "      <td>4.0</td>\n",
       "      <td>6.0</td>\n",
       "      <td>0.0</td>\n",
       "      <td>1.0</td>\n",
       "      <td>1.0</td>\n",
       "      <td>5.0</td>\n",
       "      <td>4.0</td>\n",
       "      <td>1.0</td>\n",
       "      <td>3.0</td>\n",
       "      <td>NaN</td>\n",
       "      <td>4.0</td>\n",
       "      <td>NaN</td>\n",
       "    </tr>\n",
       "    <tr>\n",
       "      <th>SC</th>\n",
       "      <td>-1.0</td>\n",
       "      <td>-1.0</td>\n",
       "      <td>-3.0</td>\n",
       "      <td>-2.0</td>\n",
       "      <td>-4.0</td>\n",
       "      <td>-1.0</td>\n",
       "      <td>-1.0</td>\n",
       "      <td>-2.0</td>\n",
       "      <td>-2.0</td>\n",
       "      <td>-4.0</td>\n",
       "      <td>-1.0</td>\n",
       "      <td>-4.0</td>\n",
       "      <td>0.0</td>\n",
       "      <td>-2.0</td>\n",
       "    </tr>\n",
       "  </tbody>\n",
       "</table>\n",
       "</div>"
      ],
      "text/plain": [
       "    Alita  Kyle  Kollin   Ron  Michael  Andre  Anthony  Jackson  Josh  \\\n",
       "R1   28.0  21.0    17.0  23.0     22.0   23.0     22.0     20.0  18.0   \n",
       "R2   14.0  10.0    12.0   5.0      8.0    8.0      9.0      4.0   5.0   \n",
       "R3    2.0   6.0     6.0   2.0      7.0    1.0      0.0      3.0   1.0   \n",
       "R4    1.0   4.0     4.0   6.0      0.0    1.0      1.0      5.0   4.0   \n",
       "SC   -1.0  -1.0    -3.0  -2.0     -4.0   -1.0     -1.0     -2.0  -2.0   \n",
       "\n",
       "    Romulus  David  Jeremy  Brian  Matt  \n",
       "R1     14.0   21.0    19.0   15.0  24.0  \n",
       "R2     12.0    0.0     8.0    4.0   NaN  \n",
       "R3      1.0    1.0     0.0    0.0   NaN  \n",
       "R4      1.0    3.0     NaN    4.0   NaN  \n",
       "SC     -4.0   -1.0    -4.0    0.0  -2.0  "
      ]
     },
     "execution_count": 16,
     "metadata": {},
     "output_type": "execute_result"
    }
   ],
   "source": [
    "df_sorted"
   ]
  },
  {
   "cell_type": "code",
   "execution_count": 17,
   "metadata": {
    "collapsed": true,
    "deletable": true,
    "editable": true
   },
   "outputs": [],
   "source": [
    "cols = df_sorted.columns.tolist()\n",
    "new_cols = [cols[-1], cols[-3]] + cols[:-3] + [cols[-2]] # move Matt and Jeremy\n",
    "df_reorg = df_sorted[new_cols]\n",
    "df_reorg.name = 'Points - 2017'"
   ]
  },
  {
   "cell_type": "code",
   "execution_count": 18,
   "metadata": {
    "collapsed": false,
    "deletable": true,
    "editable": true
   },
   "outputs": [
    {
     "data": {
      "text/html": [
       "<div>\n",
       "<table border=\"1\" class=\"dataframe\">\n",
       "  <thead>\n",
       "    <tr style=\"text-align: right;\">\n",
       "      <th></th>\n",
       "      <th>Matt</th>\n",
       "      <th>Jeremy</th>\n",
       "      <th>Alita</th>\n",
       "      <th>Kyle</th>\n",
       "      <th>Kollin</th>\n",
       "      <th>Ron</th>\n",
       "      <th>Michael</th>\n",
       "      <th>Andre</th>\n",
       "      <th>Anthony</th>\n",
       "      <th>Jackson</th>\n",
       "      <th>Josh</th>\n",
       "      <th>Romulus</th>\n",
       "      <th>David</th>\n",
       "      <th>Brian</th>\n",
       "    </tr>\n",
       "  </thead>\n",
       "  <tbody>\n",
       "    <tr>\n",
       "      <th>R1</th>\n",
       "      <td>24.0</td>\n",
       "      <td>19.0</td>\n",
       "      <td>28.0</td>\n",
       "      <td>21.0</td>\n",
       "      <td>17.0</td>\n",
       "      <td>23.0</td>\n",
       "      <td>22.0</td>\n",
       "      <td>23.0</td>\n",
       "      <td>22.0</td>\n",
       "      <td>20.0</td>\n",
       "      <td>18.0</td>\n",
       "      <td>14.0</td>\n",
       "      <td>21.0</td>\n",
       "      <td>15.0</td>\n",
       "    </tr>\n",
       "    <tr>\n",
       "      <th>R2</th>\n",
       "      <td>NaN</td>\n",
       "      <td>8.0</td>\n",
       "      <td>14.0</td>\n",
       "      <td>10.0</td>\n",
       "      <td>12.0</td>\n",
       "      <td>5.0</td>\n",
       "      <td>8.0</td>\n",
       "      <td>8.0</td>\n",
       "      <td>9.0</td>\n",
       "      <td>4.0</td>\n",
       "      <td>5.0</td>\n",
       "      <td>12.0</td>\n",
       "      <td>0.0</td>\n",
       "      <td>4.0</td>\n",
       "    </tr>\n",
       "    <tr>\n",
       "      <th>R3</th>\n",
       "      <td>NaN</td>\n",
       "      <td>0.0</td>\n",
       "      <td>2.0</td>\n",
       "      <td>6.0</td>\n",
       "      <td>6.0</td>\n",
       "      <td>2.0</td>\n",
       "      <td>7.0</td>\n",
       "      <td>1.0</td>\n",
       "      <td>0.0</td>\n",
       "      <td>3.0</td>\n",
       "      <td>1.0</td>\n",
       "      <td>1.0</td>\n",
       "      <td>1.0</td>\n",
       "      <td>0.0</td>\n",
       "    </tr>\n",
       "    <tr>\n",
       "      <th>R4</th>\n",
       "      <td>NaN</td>\n",
       "      <td>NaN</td>\n",
       "      <td>1.0</td>\n",
       "      <td>4.0</td>\n",
       "      <td>4.0</td>\n",
       "      <td>6.0</td>\n",
       "      <td>0.0</td>\n",
       "      <td>1.0</td>\n",
       "      <td>1.0</td>\n",
       "      <td>5.0</td>\n",
       "      <td>4.0</td>\n",
       "      <td>1.0</td>\n",
       "      <td>3.0</td>\n",
       "      <td>4.0</td>\n",
       "    </tr>\n",
       "    <tr>\n",
       "      <th>SC</th>\n",
       "      <td>-2.0</td>\n",
       "      <td>-4.0</td>\n",
       "      <td>-1.0</td>\n",
       "      <td>-1.0</td>\n",
       "      <td>-3.0</td>\n",
       "      <td>-2.0</td>\n",
       "      <td>-4.0</td>\n",
       "      <td>-1.0</td>\n",
       "      <td>-1.0</td>\n",
       "      <td>-2.0</td>\n",
       "      <td>-2.0</td>\n",
       "      <td>-4.0</td>\n",
       "      <td>-1.0</td>\n",
       "      <td>0.0</td>\n",
       "    </tr>\n",
       "  </tbody>\n",
       "</table>\n",
       "</div>"
      ],
      "text/plain": [
       "    Matt  Jeremy  Alita  Kyle  Kollin   Ron  Michael  Andre  Anthony  Jackson  \\\n",
       "R1  24.0    19.0   28.0  21.0    17.0  23.0     22.0   23.0     22.0     20.0   \n",
       "R2   NaN     8.0   14.0  10.0    12.0   5.0      8.0    8.0      9.0      4.0   \n",
       "R3   NaN     0.0    2.0   6.0     6.0   2.0      7.0    1.0      0.0      3.0   \n",
       "R4   NaN     NaN    1.0   4.0     4.0   6.0      0.0    1.0      1.0      5.0   \n",
       "SC  -2.0    -4.0   -1.0  -1.0    -3.0  -2.0     -4.0   -1.0     -1.0     -2.0   \n",
       "\n",
       "    Josh  Romulus  David  Brian  \n",
       "R1  18.0     14.0   21.0   15.0  \n",
       "R2   5.0     12.0    0.0    4.0  \n",
       "R3   1.0      1.0    1.0    0.0  \n",
       "R4   4.0      1.0    3.0    4.0  \n",
       "SC  -2.0     -4.0   -1.0    0.0  "
      ]
     },
     "execution_count": 18,
     "metadata": {},
     "output_type": "execute_result"
    }
   ],
   "source": [
    "df_reorg"
   ]
  },
  {
   "cell_type": "code",
   "execution_count": 19,
   "metadata": {
    "collapsed": false,
    "deletable": true,
    "editable": true
   },
   "outputs": [
    {
     "data": {
      "image/png": "[encoded data removed]",
      "text/plain": [
       "<matplotlib.figure.Figure at 0x1123d7438>"
      ]
     },
     "metadata": {},
     "output_type": "display_data"
    }
   ],
   "source": [
    "make_plot(df_reorg)"
   ]
  },
  {
   "cell_type": "markdown",
   "metadata": {
    "collapsed": true,
    "deletable": true,
    "editable": true
   },
   "source": [
    "## Get Stanley Cup points"
   ]
  },
  {
   "cell_type": "markdown",
   "metadata": {
    "deletable": true,
    "editable": true
   },
   "source": [
    "## Define Functions"
   ]
  },
  {
   "cell_type": "code",
   "execution_count": 7,
   "metadata": {
    "collapsed": false,
    "deletable": true,
    "editable": true,
    "scrolled": true
   },
   "outputs": [
    {
     "data": {
      "text/plain": [
       "Alita      28\n",
       "Andre      23\n",
       "Anthony    22\n",
       "Brian      15\n",
       "David      21\n",
       "Jackson    20\n",
       "Jeremy     19\n",
       "Josh       18\n",
       "Kollin     17\n",
       "Kyle       21\n",
       "Matt       24\n",
       "Michael    22\n",
       "Romulus    14\n",
       "Ron        23\n",
       "dtype: int64"
      ]
     },
     "execution_count": 7,
     "metadata": {},
     "output_type": "execute_result"
    }
   ],
   "source": [
    "get_round_points(2017, 1)"
   ]
  },
  {
   "cell_type": "code",
   "execution_count": 38,
   "metadata": {
    "collapsed": false,
    "deletable": true,
    "editable": true
   },
   "outputs": [],
   "source": [
    "df = read_round(2017, 2)"
   ]
  },
  {
   "cell_type": "code",
   "execution_count": 39,
   "metadata": {
    "collapsed": false,
    "deletable": true,
    "editable": true
   },
   "outputs": [
    {
     "data": {
      "text/html": [
       "<div>\n",
       "<table border=\"1\" class=\"dataframe\">\n",
       "  <thead>\n",
       "    <tr style=\"text-align: right;\">\n",
       "      <th></th>\n",
       "      <th>Timestamp</th>\n",
       "      <th>Name:</th>\n",
       "      <th>T1</th>\n",
       "      <th>G1</th>\n",
       "      <th>T2</th>\n",
       "      <th>G2</th>\n",
       "      <th>T3</th>\n",
       "      <th>G3</th>\n",
       "      <th>T4</th>\n",
       "      <th>G4</th>\n",
       "    </tr>\n",
       "  </thead>\n",
       "  <tbody>\n",
       "    <tr>\n",
       "      <th>0</th>\n",
       "      <td>2017/04/24 3:34:17 pm GMT-4</td>\n",
       "      <td>Results</td>\n",
       "      <td>Nashville Predators</td>\n",
       "      <td>6</td>\n",
       "      <td>Anaheim Ducks</td>\n",
       "      <td>7</td>\n",
       "      <td>Ottawa Senators</td>\n",
       "      <td>6</td>\n",
       "      <td>Pittsburgh Penguins</td>\n",
       "      <td>7</td>\n",
       "    </tr>\n",
       "    <tr>\n",
       "      <th>1</th>\n",
       "      <td>2017/04/24 3:34:17 pm GMT-4</td>\n",
       "      <td>Alita</td>\n",
       "      <td>St. Louis Blues</td>\n",
       "      <td>6</td>\n",
       "      <td>Edmonton Oilers</td>\n",
       "      <td>7</td>\n",
       "      <td>New York Rangers</td>\n",
       "      <td>5</td>\n",
       "      <td>Washington Capitals</td>\n",
       "      <td>6</td>\n",
       "    </tr>\n",
       "    <tr>\n",
       "      <th>2</th>\n",
       "      <td>2017/04/24 3:50:27 pm GMT-4</td>\n",
       "      <td>Brian</td>\n",
       "      <td>Nashville Predators</td>\n",
       "      <td>6</td>\n",
       "      <td>Anaheim Ducks</td>\n",
       "      <td>6</td>\n",
       "      <td>Ottawa Senators</td>\n",
       "      <td>7</td>\n",
       "      <td>Pittsburgh Penguins</td>\n",
       "      <td>5</td>\n",
       "    </tr>\n",
       "    <tr>\n",
       "      <th>3</th>\n",
       "      <td>2017/04/24 7:07:20 pm GMT-4</td>\n",
       "      <td>Jackson</td>\n",
       "      <td>Nashville Predators</td>\n",
       "      <td>6</td>\n",
       "      <td>Edmonton Oilers</td>\n",
       "      <td>6</td>\n",
       "      <td>Ottawa Senators</td>\n",
       "      <td>6</td>\n",
       "      <td>Pittsburgh Penguins</td>\n",
       "      <td>6</td>\n",
       "    </tr>\n",
       "    <tr>\n",
       "      <th>4</th>\n",
       "      <td>2017/04/24 7:45:38 pm GMT-4</td>\n",
       "      <td>Kyle</td>\n",
       "      <td>St. Louis Blues</td>\n",
       "      <td>6</td>\n",
       "      <td>Edmonton Oilers</td>\n",
       "      <td>6</td>\n",
       "      <td>Ottawa Senators</td>\n",
       "      <td>6</td>\n",
       "      <td>Washington Capitals</td>\n",
       "      <td>6</td>\n",
       "    </tr>\n",
       "    <tr>\n",
       "      <th>5</th>\n",
       "      <td>2017/04/24 9:42:34 pm GMT-4</td>\n",
       "      <td>Ron</td>\n",
       "      <td>Nashville Predators</td>\n",
       "      <td>6</td>\n",
       "      <td>Edmonton Oilers</td>\n",
       "      <td>7</td>\n",
       "      <td>Ottawa Senators</td>\n",
       "      <td>6</td>\n",
       "      <td>Washington Capitals</td>\n",
       "      <td>6</td>\n",
       "    </tr>\n",
       "    <tr>\n",
       "      <th>6</th>\n",
       "      <td>2017/04/25 4:29:06 pm GMT-4</td>\n",
       "      <td>Jeremy</td>\n",
       "      <td>Nashville Predators</td>\n",
       "      <td>5</td>\n",
       "      <td>Edmonton Oilers</td>\n",
       "      <td>6</td>\n",
       "      <td>New York Rangers</td>\n",
       "      <td>6</td>\n",
       "      <td>Pittsburgh Penguins</td>\n",
       "      <td>7</td>\n",
       "    </tr>\n",
       "    <tr>\n",
       "      <th>7</th>\n",
       "      <td>2017/04/25 4:55:21 pm GMT-4</td>\n",
       "      <td>David</td>\n",
       "      <td>Nashville Predators</td>\n",
       "      <td>6</td>\n",
       "      <td>Anaheim Ducks</td>\n",
       "      <td>7</td>\n",
       "      <td>Ottawa Senators</td>\n",
       "      <td>6</td>\n",
       "      <td>Pittsburgh Penguins</td>\n",
       "      <td>7</td>\n",
       "    </tr>\n",
       "    <tr>\n",
       "      <th>8</th>\n",
       "      <td>2017/04/26 9:25:44 am GMT-4</td>\n",
       "      <td>Josh</td>\n",
       "      <td>Nashville Predators</td>\n",
       "      <td>6</td>\n",
       "      <td>Edmonton Oilers</td>\n",
       "      <td>7</td>\n",
       "      <td>Ottawa Senators</td>\n",
       "      <td>7</td>\n",
       "      <td>Washington Capitals</td>\n",
       "      <td>7</td>\n",
       "    </tr>\n",
       "    <tr>\n",
       "      <th>9</th>\n",
       "      <td>2017/04/26 12:48:19 pm GMT-4</td>\n",
       "      <td>Michael</td>\n",
       "      <td>St. Louis Blues</td>\n",
       "      <td>6</td>\n",
       "      <td>Anaheim Ducks</td>\n",
       "      <td>6</td>\n",
       "      <td>Ottawa Senators</td>\n",
       "      <td>6</td>\n",
       "      <td>Washington Capitals</td>\n",
       "      <td>6</td>\n",
       "    </tr>\n",
       "    <tr>\n",
       "      <th>10</th>\n",
       "      <td>2017/04/26 4:22:18 pm GMT-4</td>\n",
       "      <td>Romulus</td>\n",
       "      <td>St. Louis Blues</td>\n",
       "      <td>6</td>\n",
       "      <td>Anaheim Ducks</td>\n",
       "      <td>6</td>\n",
       "      <td>New York Rangers</td>\n",
       "      <td>6</td>\n",
       "      <td>Washington Capitals</td>\n",
       "      <td>6</td>\n",
       "    </tr>\n",
       "    <tr>\n",
       "      <th>11</th>\n",
       "      <td>2017/04/26 8:39:55 pm GMT-4</td>\n",
       "      <td>Anthony</td>\n",
       "      <td>Nashville Predators</td>\n",
       "      <td>5</td>\n",
       "      <td>Edmonton Oilers</td>\n",
       "      <td>6</td>\n",
       "      <td>New York Rangers</td>\n",
       "      <td>6</td>\n",
       "      <td>Pittsburgh Penguins</td>\n",
       "      <td>6</td>\n",
       "    </tr>\n",
       "    <tr>\n",
       "      <th>12</th>\n",
       "      <td>2017/04/27 1:35:58 am GMT-4</td>\n",
       "      <td>Kollin</td>\n",
       "      <td>St. Louis Blues</td>\n",
       "      <td>6</td>\n",
       "      <td>Anaheim Ducks</td>\n",
       "      <td>5</td>\n",
       "      <td>New York Rangers</td>\n",
       "      <td>6</td>\n",
       "      <td>Washington Capitals</td>\n",
       "      <td>7</td>\n",
       "    </tr>\n",
       "    <tr>\n",
       "      <th>13</th>\n",
       "      <td>2017/04/27 1:51:27 am GMT-4</td>\n",
       "      <td>Andre</td>\n",
       "      <td>Nashville Predators</td>\n",
       "      <td>6</td>\n",
       "      <td>Edmonton Oilers</td>\n",
       "      <td>7</td>\n",
       "      <td>New York Rangers</td>\n",
       "      <td>6</td>\n",
       "      <td>Washington Capitals</td>\n",
       "      <td>7</td>\n",
       "    </tr>\n",
       "  </tbody>\n",
       "</table>\n",
       "</div>"
      ],
      "text/plain": [
       "                       Timestamp    Name:                   T1  G1  \\\n",
       "0    2017/04/24 3:34:17 pm GMT-4  Results  Nashville Predators   6   \n",
       "1    2017/04/24 3:34:17 pm GMT-4    Alita      St. Louis Blues   6   \n",
       "2    2017/04/24 3:50:27 pm GMT-4    Brian  Nashville Predators   6   \n",
       "3    2017/04/24 7:07:20 pm GMT-4  Jackson  Nashville Predators   6   \n",
       "4    2017/04/24 7:45:38 pm GMT-4     Kyle      St. Louis Blues   6   \n",
       "5    2017/04/24 9:42:34 pm GMT-4      Ron  Nashville Predators   6   \n",
       "6    2017/04/25 4:29:06 pm GMT-4   Jeremy  Nashville Predators   5   \n",
       "7    2017/04/25 4:55:21 pm GMT-4    David  Nashville Predators   6   \n",
       "8    2017/04/26 9:25:44 am GMT-4     Josh  Nashville Predators   6   \n",
       "9   2017/04/26 12:48:19 pm GMT-4  Michael      St. Louis Blues   6   \n",
       "10   2017/04/26 4:22:18 pm GMT-4  Romulus      St. Louis Blues   6   \n",
       "11   2017/04/26 8:39:55 pm GMT-4  Anthony  Nashville Predators   5   \n",
       "12   2017/04/27 1:35:58 am GMT-4   Kollin      St. Louis Blues   6   \n",
       "13   2017/04/27 1:51:27 am GMT-4    Andre  Nashville Predators   6   \n",
       "\n",
       "                 T2  G2                T3  G3                   T4  G4  \n",
       "0     Anaheim Ducks   7   Ottawa Senators   6  Pittsburgh Penguins   7  \n",
       "1   Edmonton Oilers   7  New York Rangers   5  Washington Capitals   6  \n",
       "2     Anaheim Ducks   6   Ottawa Senators   7  Pittsburgh Penguins   5  \n",
       "3   Edmonton Oilers   6   Ottawa Senators   6  Pittsburgh Penguins   6  \n",
       "4   Edmonton Oilers   6   Ottawa Senators   6  Washington Capitals   6  \n",
       "5   Edmonton Oilers   7   Ottawa Senators   6  Washington Capitals   6  \n",
       "6   Edmonton Oilers   6  New York Rangers   6  Pittsburgh Penguins   7  \n",
       "7     Anaheim Ducks   7   Ottawa Senators   6  Pittsburgh Penguins   7  \n",
       "8   Edmonton Oilers   7   Ottawa Senators   7  Washington Capitals   7  \n",
       "9     Anaheim Ducks   6   Ottawa Senators   6  Washington Capitals   6  \n",
       "10    Anaheim Ducks   6  New York Rangers   6  Washington Capitals   6  \n",
       "11  Edmonton Oilers   6  New York Rangers   6  Pittsburgh Penguins   6  \n",
       "12    Anaheim Ducks   5  New York Rangers   6  Washington Capitals   7  \n",
       "13  Edmonton Oilers   7  New York Rangers   6  Washington Capitals   7  "
      ]
     },
     "execution_count": 39,
     "metadata": {},
     "output_type": "execute_result"
    }
   ],
   "source": [
    "df"
   ]
  },
  {
   "cell_type": "code",
   "execution_count": 41,
   "metadata": {
    "collapsed": false,
    "deletable": true,
    "editable": true
   },
   "outputs": [
    {
     "data": {
      "text/plain": [
       "array([6, 7, 6, 7], dtype=object)"
      ]
     },
     "execution_count": 41,
     "metadata": {},
     "output_type": "execute_result"
    }
   ],
   "source": [
    "df.iloc[0].values[3::2]"
   ]
  },
  {
   "cell_type": "code",
   "execution_count": 37,
   "metadata": {
    "collapsed": false,
    "deletable": true,
    "editable": true
   },
   "outputs": [
    {
     "data": {
      "text/plain": [
       "array([False, False, False,  True,  True,  True, False, False], dtype=bool)"
      ]
     },
     "execution_count": 37,
     "metadata": {},
     "output_type": "execute_result"
    }
   ],
   "source": [
    "ind = 1\n",
    "df.iloc[0].values[2:-2:2] == df.iloc[ind].values[2:-2:2]"
   ]
  },
  {
   "cell_type": "code",
   "execution_count": null,
   "metadata": {
    "collapsed": false,
    "deletable": true,
    "editable": true
   },
   "outputs": [],
   "source": [
    "\n",
    "\n",
    "\n",
    "\n",
    "\n"
   ]
  },
  {
   "cell_type": "code",
   "execution_count": 8,
   "metadata": {
    "collapsed": true
   },
   "outputs": [],
   "source": [
    "year = 2017\n",
    "rnd = 1\n",
    "fname = str(year)+' Friendly Playoff Pool Round '+str(rnd)+'.csv'    # read file"
   ]
  },
  {
   "cell_type": "code",
   "execution_count": 9,
   "metadata": {
    "collapsed": false
   },
   "outputs": [],
   "source": [
    "fdata = pd.read_csv(fname, sep=',')\n",
    "# make the names of people the index (the row name)\n",
    "fdata.index = fdata['Name:']\n",
    "# over write the column headers\n",
    "header = fdata.columns.values"
   ]
  },
  {
   "cell_type": "code",
   "execution_count": 12,
   "metadata": {
    "collapsed": true
   },
   "outputs": [],
   "source": [
    "header[2:] = ['T1','G1','T2','G2','T3','G3','T4','G4','T5','G5','T6','G6','T7','G7','T8','G8','SC','R']"
   ]
  },
  {
   "cell_type": "code",
   "execution_count": 13,
   "metadata": {
    "collapsed": true
   },
   "outputs": [],
   "source": [
    "fdata.columns = header"
   ]
  },
  {
   "cell_type": "code",
   "execution_count": null,
   "metadata": {
    "collapsed": true
   },
   "outputs": [],
   "source": []
  }
 ],
 "metadata": {
  "kernelspec": {
   "display_name": "Python 3",
   "language": "python",
   "name": "python3"
  },
  "language_info": {
   "codemirror_mode": {
    "name": "ipython",
    "version": 3
   },
   "file_extension": ".py",
   "mimetype": "text/x-python",
   "name": "python",
   "nbconvert_exporter": "python",
   "pygments_lexer": "ipython3",
   "version": "3.6.0"
  }
 },
 "nbformat": 4,
 "nbformat_minor": 0
}
